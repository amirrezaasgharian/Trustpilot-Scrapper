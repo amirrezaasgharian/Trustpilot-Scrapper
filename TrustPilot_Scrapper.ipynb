{
 "cells": [
  {
   "cell_type": "markdown",
   "metadata": {},
   "source": [
    "# You can use this notebook to fetch reviews(Star,Comment and Date) from Trustpilot"
   ]
  },
  {
   "cell_type": "code",
   "execution_count": 31,
   "metadata": {},
   "outputs": [],
   "source": [
    "from selenium import webdriver\n",
    "from selenium.webdriver.common.keys import Keys\n",
    "from time import sleep\n",
    "import pandas as pd"
   ]
  },
  {
   "cell_type": "code",
   "execution_count": 4,
   "metadata": {},
   "outputs": [
    {
     "name": "stderr",
     "output_type": "stream",
     "text": [
      "C:\\Users\\Amir\\AppData\\Local\\Temp/ipykernel_3396/1442360676.py:1: DeprecationWarning: executable_path has been deprecated, please pass in a Service object\n",
      "  driver = webdriver.Chrome(executable_path=r\"driver\\chromedriver.exe\")\n"
     ]
    }
   ],
   "source": [
    "#Replace matched chromedriver\n",
    "driver = webdriver.Chrome(executable_path=r\"driver\\chromedriver.exe\")\n",
    "driver.maximize_window()\n",
    "driver.get(\"https://www.trustpilot.com/review/opensea.io\")"
   ]
  },
  {
   "cell_type": "code",
   "execution_count": 70,
   "metadata": {},
   "outputs": [
    {
     "name": "stderr",
     "output_type": "stream",
     "text": [
      "C:\\Users\\Amir\\AppData\\Local\\Temp/ipykernel_3396/626879404.py:14: DeprecationWarning: find_element_by_* commands are deprecated. Please use find_element() instead\n",
      "  tempRate = driver.find_element_by_xpath(starURL)\n",
      "C:\\Users\\Amir\\AppData\\Local\\Temp/ipykernel_3396/626879404.py:22: DeprecationWarning: find_element_by_* commands are deprecated. Please use find_element() instead\n",
      "  tempComment = driver.find_element_by_xpath(commentURL).text\n",
      "C:\\Users\\Amir\\AppData\\Local\\Temp/ipykernel_3396/626879404.py:28: DeprecationWarning: find_element_by_* commands are deprecated. Please use find_element() instead\n",
      "  tempDate = driver.find_element_by_xpath(dateURL).text.split(\": \")[1]\n",
      "C:\\Users\\Amir\\AppData\\Local\\Temp/ipykernel_3396/626879404.py:14: DeprecationWarning: find_element_by_* commands are deprecated. Please use find_element() instead\n",
      "  tempRate = driver.find_element_by_xpath(starURL)\n",
      "C:\\Users\\Amir\\AppData\\Local\\Temp/ipykernel_3396/626879404.py:22: DeprecationWarning: find_element_by_* commands are deprecated. Please use find_element() instead\n",
      "  tempComment = driver.find_element_by_xpath(commentURL).text\n"
     ]
    },
    {
     "name": "stdout",
     "output_type": "stream",
     "text": [
      "//*[@id=\"__next\"]/div/div/main/div/div[3]/section/div[4]/article/div/section/div[2]/p[2]\n",
      "//*[@id=\"__next\"]/div/div/main/div/div[3]/section/div[6]/article/div/section/div[2]/p[2]\n"
     ]
    },
    {
     "name": "stderr",
     "output_type": "stream",
     "text": [
      "C:\\Users\\Amir\\AppData\\Local\\Temp/ipykernel_3396/626879404.py:28: DeprecationWarning: find_element_by_* commands are deprecated. Please use find_element() instead\n",
      "  tempDate = driver.find_element_by_xpath(dateURL).text.split(\": \")[1]\n",
      "C:\\Users\\Amir\\AppData\\Local\\Temp/ipykernel_3396/626879404.py:14: DeprecationWarning: find_element_by_* commands are deprecated. Please use find_element() instead\n",
      "  tempRate = driver.find_element_by_xpath(starURL)\n",
      "C:\\Users\\Amir\\AppData\\Local\\Temp/ipykernel_3396/626879404.py:22: DeprecationWarning: find_element_by_* commands are deprecated. Please use find_element() instead\n",
      "  tempComment = driver.find_element_by_xpath(commentURL).text\n",
      "C:\\Users\\Amir\\AppData\\Local\\Temp/ipykernel_3396/626879404.py:28: DeprecationWarning: find_element_by_* commands are deprecated. Please use find_element() instead\n",
      "  tempDate = driver.find_element_by_xpath(dateURL).text.split(\": \")[1]\n",
      "C:\\Users\\Amir\\AppData\\Local\\Temp/ipykernel_3396/626879404.py:14: DeprecationWarning: find_element_by_* commands are deprecated. Please use find_element() instead\n",
      "  tempRate = driver.find_element_by_xpath(starURL)\n",
      "C:\\Users\\Amir\\AppData\\Local\\Temp/ipykernel_3396/626879404.py:22: DeprecationWarning: find_element_by_* commands are deprecated. Please use find_element() instead\n",
      "  tempComment = driver.find_element_by_xpath(commentURL).text\n"
     ]
    },
    {
     "name": "stdout",
     "output_type": "stream",
     "text": [
      "//*[@id=\"__next\"]/div/div/main/div/div[3]/section/div[7]/article/div/section/div[2]/p[2]\n",
      "//*[@id=\"__next\"]/div/div/main/div/div[3]/section/div[8]/article/div/section/div[2]/p[2]\n"
     ]
    },
    {
     "name": "stderr",
     "output_type": "stream",
     "text": [
      "C:\\Users\\Amir\\AppData\\Local\\Temp/ipykernel_3396/626879404.py:28: DeprecationWarning: find_element_by_* commands are deprecated. Please use find_element() instead\n",
      "  tempDate = driver.find_element_by_xpath(dateURL).text.split(\": \")[1]\n",
      "C:\\Users\\Amir\\AppData\\Local\\Temp/ipykernel_3396/626879404.py:14: DeprecationWarning: find_element_by_* commands are deprecated. Please use find_element() instead\n",
      "  tempRate = driver.find_element_by_xpath(starURL)\n",
      "C:\\Users\\Amir\\AppData\\Local\\Temp/ipykernel_3396/626879404.py:22: DeprecationWarning: find_element_by_* commands are deprecated. Please use find_element() instead\n",
      "  tempComment = driver.find_element_by_xpath(commentURL).text\n",
      "C:\\Users\\Amir\\AppData\\Local\\Temp/ipykernel_3396/626879404.py:28: DeprecationWarning: find_element_by_* commands are deprecated. Please use find_element() instead\n",
      "  tempDate = driver.find_element_by_xpath(dateURL).text.split(\": \")[1]\n",
      "C:\\Users\\Amir\\AppData\\Local\\Temp/ipykernel_3396/626879404.py:14: DeprecationWarning: find_element_by_* commands are deprecated. Please use find_element() instead\n",
      "  tempRate = driver.find_element_by_xpath(starURL)\n",
      "C:\\Users\\Amir\\AppData\\Local\\Temp/ipykernel_3396/626879404.py:22: DeprecationWarning: find_element_by_* commands are deprecated. Please use find_element() instead\n",
      "  tempComment = driver.find_element_by_xpath(commentURL).text\n",
      "C:\\Users\\Amir\\AppData\\Local\\Temp/ipykernel_3396/626879404.py:28: DeprecationWarning: find_element_by_* commands are deprecated. Please use find_element() instead\n",
      "  tempDate = driver.find_element_by_xpath(dateURL).text.split(\": \")[1]\n"
     ]
    },
    {
     "name": "stdout",
     "output_type": "stream",
     "text": [
      "//*[@id=\"__next\"]/div/div/main/div/div[3]/section/div[9]/article/div/section/div[2]/p[2]\n",
      "//*[@id=\"__next\"]/div/div/main/div/div[3]/section/div[10]/article/div/section/div[2]/p[2]\n"
     ]
    },
    {
     "name": "stderr",
     "output_type": "stream",
     "text": [
      "C:\\Users\\Amir\\AppData\\Local\\Temp/ipykernel_3396/626879404.py:14: DeprecationWarning: find_element_by_* commands are deprecated. Please use find_element() instead\n",
      "  tempRate = driver.find_element_by_xpath(starURL)\n",
      "C:\\Users\\Amir\\AppData\\Local\\Temp/ipykernel_3396/626879404.py:22: DeprecationWarning: find_element_by_* commands are deprecated. Please use find_element() instead\n",
      "  tempComment = driver.find_element_by_xpath(commentURL).text\n",
      "C:\\Users\\Amir\\AppData\\Local\\Temp/ipykernel_3396/626879404.py:28: DeprecationWarning: find_element_by_* commands are deprecated. Please use find_element() instead\n",
      "  tempDate = driver.find_element_by_xpath(dateURL).text.split(\": \")[1]\n",
      "C:\\Users\\Amir\\AppData\\Local\\Temp/ipykernel_3396/626879404.py:14: DeprecationWarning: find_element_by_* commands are deprecated. Please use find_element() instead\n",
      "  tempRate = driver.find_element_by_xpath(starURL)\n",
      "C:\\Users\\Amir\\AppData\\Local\\Temp/ipykernel_3396/626879404.py:22: DeprecationWarning: find_element_by_* commands are deprecated. Please use find_element() instead\n",
      "  tempComment = driver.find_element_by_xpath(commentURL).text\n",
      "C:\\Users\\Amir\\AppData\\Local\\Temp/ipykernel_3396/626879404.py:28: DeprecationWarning: find_element_by_* commands are deprecated. Please use find_element() instead\n",
      "  tempDate = driver.find_element_by_xpath(dateURL).text.split(\": \")[1]\n"
     ]
    },
    {
     "name": "stdout",
     "output_type": "stream",
     "text": [
      "//*[@id=\"__next\"]/div/div/main/div/div[3]/section/div[11]/article/div/section/div[2]/p[2]\n",
      "//*[@id=\"__next\"]/div/div/main/div/div[3]/section/div[12]/article/div/section/div[2]/p[2]\n"
     ]
    },
    {
     "name": "stderr",
     "output_type": "stream",
     "text": [
      "C:\\Users\\Amir\\AppData\\Local\\Temp/ipykernel_3396/626879404.py:14: DeprecationWarning: find_element_by_* commands are deprecated. Please use find_element() instead\n",
      "  tempRate = driver.find_element_by_xpath(starURL)\n",
      "C:\\Users\\Amir\\AppData\\Local\\Temp/ipykernel_3396/626879404.py:22: DeprecationWarning: find_element_by_* commands are deprecated. Please use find_element() instead\n",
      "  tempComment = driver.find_element_by_xpath(commentURL).text\n",
      "C:\\Users\\Amir\\AppData\\Local\\Temp/ipykernel_3396/626879404.py:28: DeprecationWarning: find_element_by_* commands are deprecated. Please use find_element() instead\n",
      "  tempDate = driver.find_element_by_xpath(dateURL).text.split(\": \")[1]\n",
      "C:\\Users\\Amir\\AppData\\Local\\Temp/ipykernel_3396/626879404.py:14: DeprecationWarning: find_element_by_* commands are deprecated. Please use find_element() instead\n",
      "  tempRate = driver.find_element_by_xpath(starURL)\n",
      "C:\\Users\\Amir\\AppData\\Local\\Temp/ipykernel_3396/626879404.py:22: DeprecationWarning: find_element_by_* commands are deprecated. Please use find_element() instead\n",
      "  tempComment = driver.find_element_by_xpath(commentURL).text\n"
     ]
    },
    {
     "name": "stdout",
     "output_type": "stream",
     "text": [
      "//*[@id=\"__next\"]/div/div/main/div/div[3]/section/div[13]/article/div/section/div[2]/p[2]\n",
      "//*[@id=\"__next\"]/div/div/main/div/div[3]/section/div[14]/article/div/section/div[2]/p[2]\n"
     ]
    },
    {
     "name": "stderr",
     "output_type": "stream",
     "text": [
      "C:\\Users\\Amir\\AppData\\Local\\Temp/ipykernel_3396/626879404.py:28: DeprecationWarning: find_element_by_* commands are deprecated. Please use find_element() instead\n",
      "  tempDate = driver.find_element_by_xpath(dateURL).text.split(\": \")[1]\n",
      "C:\\Users\\Amir\\AppData\\Local\\Temp/ipykernel_3396/626879404.py:14: DeprecationWarning: find_element_by_* commands are deprecated. Please use find_element() instead\n",
      "  tempRate = driver.find_element_by_xpath(starURL)\n",
      "C:\\Users\\Amir\\AppData\\Local\\Temp/ipykernel_3396/626879404.py:22: DeprecationWarning: find_element_by_* commands are deprecated. Please use find_element() instead\n",
      "  tempComment = driver.find_element_by_xpath(commentURL).text\n",
      "C:\\Users\\Amir\\AppData\\Local\\Temp/ipykernel_3396/626879404.py:28: DeprecationWarning: find_element_by_* commands are deprecated. Please use find_element() instead\n",
      "  tempDate = driver.find_element_by_xpath(dateURL).text.split(\": \")[1]\n",
      "C:\\Users\\Amir\\AppData\\Local\\Temp/ipykernel_3396/626879404.py:14: DeprecationWarning: find_element_by_* commands are deprecated. Please use find_element() instead\n",
      "  tempRate = driver.find_element_by_xpath(starURL)\n"
     ]
    },
    {
     "name": "stdout",
     "output_type": "stream",
     "text": [
      "//*[@id=\"__next\"]/div/div/main/div/div[3]/section/div[16]/article/div/section/div[2]/p[2]\n",
      "//*[@id=\"__next\"]/div/div/main/div/div[3]/section/div[17]/article/div/section/div[2]/p[2]\n"
     ]
    },
    {
     "name": "stderr",
     "output_type": "stream",
     "text": [
      "C:\\Users\\Amir\\AppData\\Local\\Temp/ipykernel_3396/626879404.py:22: DeprecationWarning: find_element_by_* commands are deprecated. Please use find_element() instead\n",
      "  tempComment = driver.find_element_by_xpath(commentURL).text\n",
      "C:\\Users\\Amir\\AppData\\Local\\Temp/ipykernel_3396/626879404.py:28: DeprecationWarning: find_element_by_* commands are deprecated. Please use find_element() instead\n",
      "  tempDate = driver.find_element_by_xpath(dateURL).text.split(\": \")[1]\n",
      "C:\\Users\\Amir\\AppData\\Local\\Temp/ipykernel_3396/626879404.py:14: DeprecationWarning: find_element_by_* commands are deprecated. Please use find_element() instead\n",
      "  tempRate = driver.find_element_by_xpath(starURL)\n",
      "C:\\Users\\Amir\\AppData\\Local\\Temp/ipykernel_3396/626879404.py:22: DeprecationWarning: find_element_by_* commands are deprecated. Please use find_element() instead\n",
      "  tempComment = driver.find_element_by_xpath(commentURL).text\n",
      "C:\\Users\\Amir\\AppData\\Local\\Temp/ipykernel_3396/626879404.py:28: DeprecationWarning: find_element_by_* commands are deprecated. Please use find_element() instead\n",
      "  tempDate = driver.find_element_by_xpath(dateURL).text.split(\": \")[1]\n",
      "C:\\Users\\Amir\\AppData\\Local\\Temp/ipykernel_3396/626879404.py:14: DeprecationWarning: find_element_by_* commands are deprecated. Please use find_element() instead\n",
      "  tempRate = driver.find_element_by_xpath(starURL)\n"
     ]
    },
    {
     "name": "stdout",
     "output_type": "stream",
     "text": [
      "//*[@id=\"__next\"]/div/div/main/div/div[3]/section/div[18]/article/div/section/div[2]/p[2]\n",
      "//*[@id=\"__next\"]/div/div/main/div/div[3]/section/div[19]/article/div/section/div[2]/p[2]\n",
      "//*[@id=\"__next\"]/div/div/main/div/div[3]/section/div[20]/article/div/section/div[2]/p[2]\n"
     ]
    },
    {
     "name": "stderr",
     "output_type": "stream",
     "text": [
      "C:\\Users\\Amir\\AppData\\Local\\Temp/ipykernel_3396/626879404.py:22: DeprecationWarning: find_element_by_* commands are deprecated. Please use find_element() instead\n",
      "  tempComment = driver.find_element_by_xpath(commentURL).text\n",
      "C:\\Users\\Amir\\AppData\\Local\\Temp/ipykernel_3396/626879404.py:28: DeprecationWarning: find_element_by_* commands are deprecated. Please use find_element() instead\n",
      "  tempDate = driver.find_element_by_xpath(dateURL).text.split(\": \")[1]\n",
      "C:\\Users\\Amir\\AppData\\Local\\Temp/ipykernel_3396/626879404.py:14: DeprecationWarning: find_element_by_* commands are deprecated. Please use find_element() instead\n",
      "  tempRate = driver.find_element_by_xpath(starURL)\n",
      "C:\\Users\\Amir\\AppData\\Local\\Temp/ipykernel_3396/626879404.py:22: DeprecationWarning: find_element_by_* commands are deprecated. Please use find_element() instead\n",
      "  tempComment = driver.find_element_by_xpath(commentURL).text\n",
      "C:\\Users\\Amir\\AppData\\Local\\Temp/ipykernel_3396/626879404.py:28: DeprecationWarning: find_element_by_* commands are deprecated. Please use find_element() instead\n",
      "  tempDate = driver.find_element_by_xpath(dateURL).text.split(\": \")[1]\n",
      "C:\\Users\\Amir\\AppData\\Local\\Temp/ipykernel_3396/626879404.py:14: DeprecationWarning: find_element_by_* commands are deprecated. Please use find_element() instead\n",
      "  tempRate = driver.find_element_by_xpath(starURL)\n",
      "C:\\Users\\Amir\\AppData\\Local\\Temp/ipykernel_3396/626879404.py:22: DeprecationWarning: find_element_by_* commands are deprecated. Please use find_element() instead\n",
      "  tempComment = driver.find_element_by_xpath(commentURL).text\n",
      "C:\\Users\\Amir\\AppData\\Local\\Temp/ipykernel_3396/626879404.py:28: DeprecationWarning: find_element_by_* commands are deprecated. Please use find_element() instead\n",
      "  tempDate = driver.find_element_by_xpath(dateURL).text.split(\": \")[1]\n",
      "C:\\Users\\Amir\\AppData\\Local\\Temp/ipykernel_3396/626879404.py:14: DeprecationWarning: find_element_by_* commands are deprecated. Please use find_element() instead\n",
      "  tempRate = driver.find_element_by_xpath(starURL)\n",
      "C:\\Users\\Amir\\AppData\\Local\\Temp/ipykernel_3396/626879404.py:22: DeprecationWarning: find_element_by_* commands are deprecated. Please use find_element() instead\n",
      "  tempComment = driver.find_element_by_xpath(commentURL).text\n",
      "C:\\Users\\Amir\\AppData\\Local\\Temp/ipykernel_3396/626879404.py:28: DeprecationWarning: find_element_by_* commands are deprecated. Please use find_element() instead\n",
      "  tempDate = driver.find_element_by_xpath(dateURL).text.split(\": \")[1]\n",
      "C:\\Users\\Amir\\AppData\\Local\\Temp/ipykernel_3396/626879404.py:14: DeprecationWarning: find_element_by_* commands are deprecated. Please use find_element() instead\n",
      "  tempRate = driver.find_element_by_xpath(starURL)\n"
     ]
    },
    {
     "name": "stdout",
     "output_type": "stream",
     "text": [
      "//*[@id=\"__next\"]/div/div/main/div/div[3]/section/div[21]/article/div/section/div[2]/p[2]\n",
      "//*[@id=\"__next\"]/div/div/main/div/div[3]/section/div[22]/article/div/section/div[2]/p[2]\n",
      "//*[@id=\"__next\"]/div/div/main/div/div[3]/section/div[23]/article/div/section/div[2]/p[2]\n"
     ]
    },
    {
     "name": "stderr",
     "output_type": "stream",
     "text": [
      "C:\\Users\\Amir\\AppData\\Local\\Temp/ipykernel_3396/626879404.py:22: DeprecationWarning: find_element_by_* commands are deprecated. Please use find_element() instead\n",
      "  tempComment = driver.find_element_by_xpath(commentURL).text\n",
      "C:\\Users\\Amir\\AppData\\Local\\Temp/ipykernel_3396/626879404.py:28: DeprecationWarning: find_element_by_* commands are deprecated. Please use find_element() instead\n",
      "  tempDate = driver.find_element_by_xpath(dateURL).text.split(\": \")[1]\n",
      "C:\\Users\\Amir\\AppData\\Local\\Temp/ipykernel_3396/626879404.py:14: DeprecationWarning: find_element_by_* commands are deprecated. Please use find_element() instead\n",
      "  tempRate = driver.find_element_by_xpath(starURL)\n",
      "C:\\Users\\Amir\\AppData\\Local\\Temp/ipykernel_3396/626879404.py:22: DeprecationWarning: find_element_by_* commands are deprecated. Please use find_element() instead\n",
      "  tempComment = driver.find_element_by_xpath(commentURL).text\n",
      "C:\\Users\\Amir\\AppData\\Local\\Temp/ipykernel_3396/626879404.py:28: DeprecationWarning: find_element_by_* commands are deprecated. Please use find_element() instead\n",
      "  tempDate = driver.find_element_by_xpath(dateURL).text.split(\": \")[1]\n",
      "C:\\Users\\Amir\\AppData\\Local\\Temp/ipykernel_3396/626879404.py:14: DeprecationWarning: find_element_by_* commands are deprecated. Please use find_element() instead\n",
      "  tempRate = driver.find_element_by_xpath(starURL)\n"
     ]
    },
    {
     "name": "stdout",
     "output_type": "stream",
     "text": [
      "//*[@id=\"__next\"]/div/div/main/div/div[3]/section/div[24]/article/div/section/div[2]/p[2]\n",
      "//*[@id=\"__next\"]/div/div/main/div/div[3]/section/div[25]/article/div/section/div[2]/p[2]\n"
     ]
    },
    {
     "name": "stderr",
     "output_type": "stream",
     "text": [
      "C:\\Users\\Amir\\AppData\\Local\\Temp/ipykernel_3396/626879404.py:22: DeprecationWarning: find_element_by_* commands are deprecated. Please use find_element() instead\n",
      "  tempComment = driver.find_element_by_xpath(commentURL).text\n",
      "C:\\Users\\Amir\\AppData\\Local\\Temp/ipykernel_3396/626879404.py:28: DeprecationWarning: find_element_by_* commands are deprecated. Please use find_element() instead\n",
      "  tempDate = driver.find_element_by_xpath(dateURL).text.split(\": \")[1]\n",
      "C:\\Users\\Amir\\AppData\\Local\\Temp/ipykernel_3396/626879404.py:14: DeprecationWarning: find_element_by_* commands are deprecated. Please use find_element() instead\n",
      "  tempRate = driver.find_element_by_xpath(starURL)\n",
      "C:\\Users\\Amir\\AppData\\Local\\Temp/ipykernel_3396/626879404.py:22: DeprecationWarning: find_element_by_* commands are deprecated. Please use find_element() instead\n",
      "  tempComment = driver.find_element_by_xpath(commentURL).text\n",
      "C:\\Users\\Amir\\AppData\\Local\\Temp/ipykernel_3396/626879404.py:28: DeprecationWarning: find_element_by_* commands are deprecated. Please use find_element() instead\n",
      "  tempDate = driver.find_element_by_xpath(dateURL).text.split(\": \")[1]\n",
      "C:\\Users\\Amir\\AppData\\Local\\Temp/ipykernel_3396/626879404.py:14: DeprecationWarning: find_element_by_* commands are deprecated. Please use find_element() instead\n",
      "  tempRate = driver.find_element_by_xpath(starURL)\n",
      "C:\\Users\\Amir\\AppData\\Local\\Temp/ipykernel_3396/626879404.py:22: DeprecationWarning: find_element_by_* commands are deprecated. Please use find_element() instead\n",
      "  tempComment = driver.find_element_by_xpath(commentURL).text\n"
     ]
    },
    {
     "name": "stdout",
     "output_type": "stream",
     "text": [
      "//*[@id=\"__next\"]/div/div/main/div/div[3]/section/div[4]/article/div/section/div[2]/p[2]\n",
      "//*[@id=\"__next\"]/div/div/main/div/div[3]/section/div[6]/article/div/section/div[2]/p[2]\n"
     ]
    },
    {
     "name": "stderr",
     "output_type": "stream",
     "text": [
      "C:\\Users\\Amir\\AppData\\Local\\Temp/ipykernel_3396/626879404.py:28: DeprecationWarning: find_element_by_* commands are deprecated. Please use find_element() instead\n",
      "  tempDate = driver.find_element_by_xpath(dateURL).text.split(\": \")[1]\n",
      "C:\\Users\\Amir\\AppData\\Local\\Temp/ipykernel_3396/626879404.py:14: DeprecationWarning: find_element_by_* commands are deprecated. Please use find_element() instead\n",
      "  tempRate = driver.find_element_by_xpath(starURL)\n",
      "C:\\Users\\Amir\\AppData\\Local\\Temp/ipykernel_3396/626879404.py:22: DeprecationWarning: find_element_by_* commands are deprecated. Please use find_element() instead\n",
      "  tempComment = driver.find_element_by_xpath(commentURL).text\n",
      "C:\\Users\\Amir\\AppData\\Local\\Temp/ipykernel_3396/626879404.py:28: DeprecationWarning: find_element_by_* commands are deprecated. Please use find_element() instead\n",
      "  tempDate = driver.find_element_by_xpath(dateURL).text.split(\": \")[1]\n",
      "C:\\Users\\Amir\\AppData\\Local\\Temp/ipykernel_3396/626879404.py:14: DeprecationWarning: find_element_by_* commands are deprecated. Please use find_element() instead\n",
      "  tempRate = driver.find_element_by_xpath(starURL)\n",
      "C:\\Users\\Amir\\AppData\\Local\\Temp/ipykernel_3396/626879404.py:22: DeprecationWarning: find_element_by_* commands are deprecated. Please use find_element() instead\n",
      "  tempComment = driver.find_element_by_xpath(commentURL).text\n"
     ]
    },
    {
     "name": "stdout",
     "output_type": "stream",
     "text": [
      "//*[@id=\"__next\"]/div/div/main/div/div[3]/section/div[7]/article/div/section/div[2]/p[2]\n",
      "//*[@id=\"__next\"]/div/div/main/div/div[3]/section/div[8]/article/div/section/div[2]/p[2]\n"
     ]
    },
    {
     "name": "stderr",
     "output_type": "stream",
     "text": [
      "C:\\Users\\Amir\\AppData\\Local\\Temp/ipykernel_3396/626879404.py:28: DeprecationWarning: find_element_by_* commands are deprecated. Please use find_element() instead\n",
      "  tempDate = driver.find_element_by_xpath(dateURL).text.split(\": \")[1]\n",
      "C:\\Users\\Amir\\AppData\\Local\\Temp/ipykernel_3396/626879404.py:14: DeprecationWarning: find_element_by_* commands are deprecated. Please use find_element() instead\n",
      "  tempRate = driver.find_element_by_xpath(starURL)\n",
      "C:\\Users\\Amir\\AppData\\Local\\Temp/ipykernel_3396/626879404.py:22: DeprecationWarning: find_element_by_* commands are deprecated. Please use find_element() instead\n",
      "  tempComment = driver.find_element_by_xpath(commentURL).text\n",
      "C:\\Users\\Amir\\AppData\\Local\\Temp/ipykernel_3396/626879404.py:28: DeprecationWarning: find_element_by_* commands are deprecated. Please use find_element() instead\n",
      "  tempDate = driver.find_element_by_xpath(dateURL).text.split(\": \")[1]\n",
      "C:\\Users\\Amir\\AppData\\Local\\Temp/ipykernel_3396/626879404.py:14: DeprecationWarning: find_element_by_* commands are deprecated. Please use find_element() instead\n",
      "  tempRate = driver.find_element_by_xpath(starURL)\n",
      "C:\\Users\\Amir\\AppData\\Local\\Temp/ipykernel_3396/626879404.py:22: DeprecationWarning: find_element_by_* commands are deprecated. Please use find_element() instead\n",
      "  tempComment = driver.find_element_by_xpath(commentURL).text\n"
     ]
    },
    {
     "name": "stdout",
     "output_type": "stream",
     "text": [
      "//*[@id=\"__next\"]/div/div/main/div/div[3]/section/div[9]/article/div/section/div[2]/p[2]\n",
      "//*[@id=\"__next\"]/div/div/main/div/div[3]/section/div[10]/article/div/section/div[2]/p[2]\n"
     ]
    },
    {
     "name": "stderr",
     "output_type": "stream",
     "text": [
      "C:\\Users\\Amir\\AppData\\Local\\Temp/ipykernel_3396/626879404.py:28: DeprecationWarning: find_element_by_* commands are deprecated. Please use find_element() instead\n",
      "  tempDate = driver.find_element_by_xpath(dateURL).text.split(\": \")[1]\n",
      "C:\\Users\\Amir\\AppData\\Local\\Temp/ipykernel_3396/626879404.py:14: DeprecationWarning: find_element_by_* commands are deprecated. Please use find_element() instead\n",
      "  tempRate = driver.find_element_by_xpath(starURL)\n",
      "C:\\Users\\Amir\\AppData\\Local\\Temp/ipykernel_3396/626879404.py:22: DeprecationWarning: find_element_by_* commands are deprecated. Please use find_element() instead\n",
      "  tempComment = driver.find_element_by_xpath(commentURL).text\n",
      "C:\\Users\\Amir\\AppData\\Local\\Temp/ipykernel_3396/626879404.py:28: DeprecationWarning: find_element_by_* commands are deprecated. Please use find_element() instead\n",
      "  tempDate = driver.find_element_by_xpath(dateURL).text.split(\": \")[1]\n",
      "C:\\Users\\Amir\\AppData\\Local\\Temp/ipykernel_3396/626879404.py:14: DeprecationWarning: find_element_by_* commands are deprecated. Please use find_element() instead\n",
      "  tempRate = driver.find_element_by_xpath(starURL)\n"
     ]
    },
    {
     "name": "stdout",
     "output_type": "stream",
     "text": [
      "//*[@id=\"__next\"]/div/div/main/div/div[3]/section/div[11]/article/div/section/div[2]/p[2]\n",
      "//*[@id=\"__next\"]/div/div/main/div/div[3]/section/div[12]/article/div/section/div[2]/p[2]\n"
     ]
    },
    {
     "name": "stderr",
     "output_type": "stream",
     "text": [
      "C:\\Users\\Amir\\AppData\\Local\\Temp/ipykernel_3396/626879404.py:22: DeprecationWarning: find_element_by_* commands are deprecated. Please use find_element() instead\n",
      "  tempComment = driver.find_element_by_xpath(commentURL).text\n",
      "C:\\Users\\Amir\\AppData\\Local\\Temp/ipykernel_3396/626879404.py:28: DeprecationWarning: find_element_by_* commands are deprecated. Please use find_element() instead\n",
      "  tempDate = driver.find_element_by_xpath(dateURL).text.split(\": \")[1]\n",
      "C:\\Users\\Amir\\AppData\\Local\\Temp/ipykernel_3396/626879404.py:14: DeprecationWarning: find_element_by_* commands are deprecated. Please use find_element() instead\n",
      "  tempRate = driver.find_element_by_xpath(starURL)\n",
      "C:\\Users\\Amir\\AppData\\Local\\Temp/ipykernel_3396/626879404.py:22: DeprecationWarning: find_element_by_* commands are deprecated. Please use find_element() instead\n",
      "  tempComment = driver.find_element_by_xpath(commentURL).text\n",
      "C:\\Users\\Amir\\AppData\\Local\\Temp/ipykernel_3396/626879404.py:28: DeprecationWarning: find_element_by_* commands are deprecated. Please use find_element() instead\n",
      "  tempDate = driver.find_element_by_xpath(dateURL).text.split(\": \")[1]\n",
      "C:\\Users\\Amir\\AppData\\Local\\Temp/ipykernel_3396/626879404.py:14: DeprecationWarning: find_element_by_* commands are deprecated. Please use find_element() instead\n",
      "  tempRate = driver.find_element_by_xpath(starURL)\n"
     ]
    },
    {
     "name": "stdout",
     "output_type": "stream",
     "text": [
      "//*[@id=\"__next\"]/div/div/main/div/div[3]/section/div[13]/article/div/section/div[2]/p[2]\n",
      "//*[@id=\"__next\"]/div/div/main/div/div[3]/section/div[14]/article/div/section/div[2]/p[2]\n"
     ]
    },
    {
     "name": "stderr",
     "output_type": "stream",
     "text": [
      "C:\\Users\\Amir\\AppData\\Local\\Temp/ipykernel_3396/626879404.py:22: DeprecationWarning: find_element_by_* commands are deprecated. Please use find_element() instead\n",
      "  tempComment = driver.find_element_by_xpath(commentURL).text\n",
      "C:\\Users\\Amir\\AppData\\Local\\Temp/ipykernel_3396/626879404.py:28: DeprecationWarning: find_element_by_* commands are deprecated. Please use find_element() instead\n",
      "  tempDate = driver.find_element_by_xpath(dateURL).text.split(\": \")[1]\n",
      "C:\\Users\\Amir\\AppData\\Local\\Temp/ipykernel_3396/626879404.py:14: DeprecationWarning: find_element_by_* commands are deprecated. Please use find_element() instead\n",
      "  tempRate = driver.find_element_by_xpath(starURL)\n",
      "C:\\Users\\Amir\\AppData\\Local\\Temp/ipykernel_3396/626879404.py:22: DeprecationWarning: find_element_by_* commands are deprecated. Please use find_element() instead\n",
      "  tempComment = driver.find_element_by_xpath(commentURL).text\n"
     ]
    },
    {
     "name": "stdout",
     "output_type": "stream",
     "text": [
      "//*[@id=\"__next\"]/div/div/main/div/div[3]/section/div[16]/article/div/section/div[2]/p[2]\n",
      "//*[@id=\"__next\"]/div/div/main/div/div[3]/section/div[17]/article/div/section/div[2]/p[2]\n",
      "//*[@id=\"__next\"]/div/div/main/div/div[3]/section/div[18]/article/div/section/div[2]/p[2]\n"
     ]
    },
    {
     "name": "stderr",
     "output_type": "stream",
     "text": [
      "C:\\Users\\Amir\\AppData\\Local\\Temp/ipykernel_3396/626879404.py:28: DeprecationWarning: find_element_by_* commands are deprecated. Please use find_element() instead\n",
      "  tempDate = driver.find_element_by_xpath(dateURL).text.split(\": \")[1]\n",
      "C:\\Users\\Amir\\AppData\\Local\\Temp/ipykernel_3396/626879404.py:14: DeprecationWarning: find_element_by_* commands are deprecated. Please use find_element() instead\n",
      "  tempRate = driver.find_element_by_xpath(starURL)\n",
      "C:\\Users\\Amir\\AppData\\Local\\Temp/ipykernel_3396/626879404.py:22: DeprecationWarning: find_element_by_* commands are deprecated. Please use find_element() instead\n",
      "  tempComment = driver.find_element_by_xpath(commentURL).text\n",
      "C:\\Users\\Amir\\AppData\\Local\\Temp/ipykernel_3396/626879404.py:28: DeprecationWarning: find_element_by_* commands are deprecated. Please use find_element() instead\n",
      "  tempDate = driver.find_element_by_xpath(dateURL).text.split(\": \")[1]\n",
      "C:\\Users\\Amir\\AppData\\Local\\Temp/ipykernel_3396/626879404.py:14: DeprecationWarning: find_element_by_* commands are deprecated. Please use find_element() instead\n",
      "  tempRate = driver.find_element_by_xpath(starURL)\n",
      "C:\\Users\\Amir\\AppData\\Local\\Temp/ipykernel_3396/626879404.py:22: DeprecationWarning: find_element_by_* commands are deprecated. Please use find_element() instead\n",
      "  tempComment = driver.find_element_by_xpath(commentURL).text\n",
      "C:\\Users\\Amir\\AppData\\Local\\Temp/ipykernel_3396/626879404.py:28: DeprecationWarning: find_element_by_* commands are deprecated. Please use find_element() instead\n",
      "  tempDate = driver.find_element_by_xpath(dateURL).text.split(\": \")[1]\n",
      "C:\\Users\\Amir\\AppData\\Local\\Temp/ipykernel_3396/626879404.py:14: DeprecationWarning: find_element_by_* commands are deprecated. Please use find_element() instead\n",
      "  tempRate = driver.find_element_by_xpath(starURL)\n",
      "C:\\Users\\Amir\\AppData\\Local\\Temp/ipykernel_3396/626879404.py:22: DeprecationWarning: find_element_by_* commands are deprecated. Please use find_element() instead\n",
      "  tempComment = driver.find_element_by_xpath(commentURL).text\n",
      "C:\\Users\\Amir\\AppData\\Local\\Temp/ipykernel_3396/626879404.py:28: DeprecationWarning: find_element_by_* commands are deprecated. Please use find_element() instead\n",
      "  tempDate = driver.find_element_by_xpath(dateURL).text.split(\": \")[1]\n",
      "C:\\Users\\Amir\\AppData\\Local\\Temp/ipykernel_3396/626879404.py:14: DeprecationWarning: find_element_by_* commands are deprecated. Please use find_element() instead\n",
      "  tempRate = driver.find_element_by_xpath(starURL)\n",
      "C:\\Users\\Amir\\AppData\\Local\\Temp/ipykernel_3396/626879404.py:22: DeprecationWarning: find_element_by_* commands are deprecated. Please use find_element() instead\n",
      "  tempComment = driver.find_element_by_xpath(commentURL).text\n",
      "C:\\Users\\Amir\\AppData\\Local\\Temp/ipykernel_3396/626879404.py:28: DeprecationWarning: find_element_by_* commands are deprecated. Please use find_element() instead\n",
      "  tempDate = driver.find_element_by_xpath(dateURL).text.split(\": \")[1]\n",
      "C:\\Users\\Amir\\AppData\\Local\\Temp/ipykernel_3396/626879404.py:14: DeprecationWarning: find_element_by_* commands are deprecated. Please use find_element() instead\n",
      "  tempRate = driver.find_element_by_xpath(starURL)\n"
     ]
    },
    {
     "name": "stdout",
     "output_type": "stream",
     "text": [
      "//*[@id=\"__next\"]/div/div/main/div/div[3]/section/div[19]/article/div/section/div[2]/p[2]\n",
      "//*[@id=\"__next\"]/div/div/main/div/div[3]/section/div[20]/article/div/section/div[2]/p[2]\n",
      "//*[@id=\"__next\"]/div/div/main/div/div[3]/section/div[21]/article/div/section/div[2]/p[2]\n"
     ]
    },
    {
     "name": "stderr",
     "output_type": "stream",
     "text": [
      "C:\\Users\\Amir\\AppData\\Local\\Temp/ipykernel_3396/626879404.py:22: DeprecationWarning: find_element_by_* commands are deprecated. Please use find_element() instead\n",
      "  tempComment = driver.find_element_by_xpath(commentURL).text\n",
      "C:\\Users\\Amir\\AppData\\Local\\Temp/ipykernel_3396/626879404.py:28: DeprecationWarning: find_element_by_* commands are deprecated. Please use find_element() instead\n",
      "  tempDate = driver.find_element_by_xpath(dateURL).text.split(\": \")[1]\n",
      "C:\\Users\\Amir\\AppData\\Local\\Temp/ipykernel_3396/626879404.py:14: DeprecationWarning: find_element_by_* commands are deprecated. Please use find_element() instead\n",
      "  tempRate = driver.find_element_by_xpath(starURL)\n",
      "C:\\Users\\Amir\\AppData\\Local\\Temp/ipykernel_3396/626879404.py:22: DeprecationWarning: find_element_by_* commands are deprecated. Please use find_element() instead\n",
      "  tempComment = driver.find_element_by_xpath(commentURL).text\n",
      "C:\\Users\\Amir\\AppData\\Local\\Temp/ipykernel_3396/626879404.py:28: DeprecationWarning: find_element_by_* commands are deprecated. Please use find_element() instead\n",
      "  tempDate = driver.find_element_by_xpath(dateURL).text.split(\": \")[1]\n",
      "C:\\Users\\Amir\\AppData\\Local\\Temp/ipykernel_3396/626879404.py:14: DeprecationWarning: find_element_by_* commands are deprecated. Please use find_element() instead\n",
      "  tempRate = driver.find_element_by_xpath(starURL)\n"
     ]
    },
    {
     "name": "stdout",
     "output_type": "stream",
     "text": [
      "//*[@id=\"__next\"]/div/div/main/div/div[3]/section/div[22]/article/div/section/div[2]/p[2]\n",
      "//*[@id=\"__next\"]/div/div/main/div/div[3]/section/div[23]/article/div/section/div[2]/p[2]\n"
     ]
    },
    {
     "name": "stderr",
     "output_type": "stream",
     "text": [
      "C:\\Users\\Amir\\AppData\\Local\\Temp/ipykernel_3396/626879404.py:22: DeprecationWarning: find_element_by_* commands are deprecated. Please use find_element() instead\n",
      "  tempComment = driver.find_element_by_xpath(commentURL).text\n",
      "C:\\Users\\Amir\\AppData\\Local\\Temp/ipykernel_3396/626879404.py:28: DeprecationWarning: find_element_by_* commands are deprecated. Please use find_element() instead\n",
      "  tempDate = driver.find_element_by_xpath(dateURL).text.split(\": \")[1]\n",
      "C:\\Users\\Amir\\AppData\\Local\\Temp/ipykernel_3396/626879404.py:14: DeprecationWarning: find_element_by_* commands are deprecated. Please use find_element() instead\n",
      "  tempRate = driver.find_element_by_xpath(starURL)\n",
      "C:\\Users\\Amir\\AppData\\Local\\Temp/ipykernel_3396/626879404.py:22: DeprecationWarning: find_element_by_* commands are deprecated. Please use find_element() instead\n",
      "  tempComment = driver.find_element_by_xpath(commentURL).text\n",
      "C:\\Users\\Amir\\AppData\\Local\\Temp/ipykernel_3396/626879404.py:28: DeprecationWarning: find_element_by_* commands are deprecated. Please use find_element() instead\n",
      "  tempDate = driver.find_element_by_xpath(dateURL).text.split(\": \")[1]\n",
      "C:\\Users\\Amir\\AppData\\Local\\Temp/ipykernel_3396/626879404.py:14: DeprecationWarning: find_element_by_* commands are deprecated. Please use find_element() instead\n",
      "  tempRate = driver.find_element_by_xpath(starURL)\n"
     ]
    },
    {
     "name": "stdout",
     "output_type": "stream",
     "text": [
      "//*[@id=\"__next\"]/div/div/main/div/div[3]/section/div[24]/article/div/section/div[2]/p[2]\n",
      "//*[@id=\"__next\"]/div/div/main/div/div[3]/section/div[25]/article/div/section/div[2]/p[2]\n"
     ]
    },
    {
     "name": "stderr",
     "output_type": "stream",
     "text": [
      "C:\\Users\\Amir\\AppData\\Local\\Temp/ipykernel_3396/626879404.py:22: DeprecationWarning: find_element_by_* commands are deprecated. Please use find_element() instead\n",
      "  tempComment = driver.find_element_by_xpath(commentURL).text\n",
      "C:\\Users\\Amir\\AppData\\Local\\Temp/ipykernel_3396/626879404.py:28: DeprecationWarning: find_element_by_* commands are deprecated. Please use find_element() instead\n",
      "  tempDate = driver.find_element_by_xpath(dateURL).text.split(\": \")[1]\n",
      "C:\\Users\\Amir\\AppData\\Local\\Temp/ipykernel_3396/626879404.py:14: DeprecationWarning: find_element_by_* commands are deprecated. Please use find_element() instead\n",
      "  tempRate = driver.find_element_by_xpath(starURL)\n",
      "C:\\Users\\Amir\\AppData\\Local\\Temp/ipykernel_3396/626879404.py:22: DeprecationWarning: find_element_by_* commands are deprecated. Please use find_element() instead\n",
      "  tempComment = driver.find_element_by_xpath(commentURL).text\n",
      "C:\\Users\\Amir\\AppData\\Local\\Temp/ipykernel_3396/626879404.py:28: DeprecationWarning: find_element_by_* commands are deprecated. Please use find_element() instead\n",
      "  tempDate = driver.find_element_by_xpath(dateURL).text.split(\": \")[1]\n",
      "C:\\Users\\Amir\\AppData\\Local\\Temp/ipykernel_3396/626879404.py:14: DeprecationWarning: find_element_by_* commands are deprecated. Please use find_element() instead\n",
      "  tempRate = driver.find_element_by_xpath(starURL)\n",
      "C:\\Users\\Amir\\AppData\\Local\\Temp/ipykernel_3396/626879404.py:22: DeprecationWarning: find_element_by_* commands are deprecated. Please use find_element() instead\n",
      "  tempComment = driver.find_element_by_xpath(commentURL).text\n"
     ]
    },
    {
     "name": "stdout",
     "output_type": "stream",
     "text": [
      "//*[@id=\"__next\"]/div/div/main/div/div[3]/section/div[4]/article/div/section/div[2]/p[2]\n",
      "//*[@id=\"__next\"]/div/div/main/div/div[3]/section/div[6]/article/div/section/div[2]/p[2]\n"
     ]
    },
    {
     "name": "stderr",
     "output_type": "stream",
     "text": [
      "C:\\Users\\Amir\\AppData\\Local\\Temp/ipykernel_3396/626879404.py:28: DeprecationWarning: find_element_by_* commands are deprecated. Please use find_element() instead\n",
      "  tempDate = driver.find_element_by_xpath(dateURL).text.split(\": \")[1]\n",
      "C:\\Users\\Amir\\AppData\\Local\\Temp/ipykernel_3396/626879404.py:14: DeprecationWarning: find_element_by_* commands are deprecated. Please use find_element() instead\n",
      "  tempRate = driver.find_element_by_xpath(starURL)\n",
      "C:\\Users\\Amir\\AppData\\Local\\Temp/ipykernel_3396/626879404.py:22: DeprecationWarning: find_element_by_* commands are deprecated. Please use find_element() instead\n",
      "  tempComment = driver.find_element_by_xpath(commentURL).text\n",
      "C:\\Users\\Amir\\AppData\\Local\\Temp/ipykernel_3396/626879404.py:28: DeprecationWarning: find_element_by_* commands are deprecated. Please use find_element() instead\n",
      "  tempDate = driver.find_element_by_xpath(dateURL).text.split(\": \")[1]\n",
      "C:\\Users\\Amir\\AppData\\Local\\Temp/ipykernel_3396/626879404.py:14: DeprecationWarning: find_element_by_* commands are deprecated. Please use find_element() instead\n",
      "  tempRate = driver.find_element_by_xpath(starURL)\n",
      "C:\\Users\\Amir\\AppData\\Local\\Temp/ipykernel_3396/626879404.py:22: DeprecationWarning: find_element_by_* commands are deprecated. Please use find_element() instead\n",
      "  tempComment = driver.find_element_by_xpath(commentURL).text\n"
     ]
    },
    {
     "name": "stdout",
     "output_type": "stream",
     "text": [
      "//*[@id=\"__next\"]/div/div/main/div/div[3]/section/div[7]/article/div/section/div[2]/p[2]\n",
      "//*[@id=\"__next\"]/div/div/main/div/div[3]/section/div[8]/article/div/section/div[2]/p[2]\n"
     ]
    },
    {
     "name": "stderr",
     "output_type": "stream",
     "text": [
      "C:\\Users\\Amir\\AppData\\Local\\Temp/ipykernel_3396/626879404.py:28: DeprecationWarning: find_element_by_* commands are deprecated. Please use find_element() instead\n",
      "  tempDate = driver.find_element_by_xpath(dateURL).text.split(\": \")[1]\n",
      "C:\\Users\\Amir\\AppData\\Local\\Temp/ipykernel_3396/626879404.py:14: DeprecationWarning: find_element_by_* commands are deprecated. Please use find_element() instead\n",
      "  tempRate = driver.find_element_by_xpath(starURL)\n",
      "C:\\Users\\Amir\\AppData\\Local\\Temp/ipykernel_3396/626879404.py:22: DeprecationWarning: find_element_by_* commands are deprecated. Please use find_element() instead\n",
      "  tempComment = driver.find_element_by_xpath(commentURL).text\n",
      "C:\\Users\\Amir\\AppData\\Local\\Temp/ipykernel_3396/626879404.py:28: DeprecationWarning: find_element_by_* commands are deprecated. Please use find_element() instead\n",
      "  tempDate = driver.find_element_by_xpath(dateURL).text.split(\": \")[1]\n",
      "C:\\Users\\Amir\\AppData\\Local\\Temp/ipykernel_3396/626879404.py:14: DeprecationWarning: find_element_by_* commands are deprecated. Please use find_element() instead\n",
      "  tempRate = driver.find_element_by_xpath(starURL)\n",
      "C:\\Users\\Amir\\AppData\\Local\\Temp/ipykernel_3396/626879404.py:22: DeprecationWarning: find_element_by_* commands are deprecated. Please use find_element() instead\n",
      "  tempComment = driver.find_element_by_xpath(commentURL).text\n"
     ]
    },
    {
     "name": "stdout",
     "output_type": "stream",
     "text": [
      "//*[@id=\"__next\"]/div/div/main/div/div[3]/section/div[9]/article/div/section/div[2]/p[2]\n",
      "//*[@id=\"__next\"]/div/div/main/div/div[3]/section/div[10]/article/div/section/div[2]/p[2]\n"
     ]
    },
    {
     "name": "stderr",
     "output_type": "stream",
     "text": [
      "C:\\Users\\Amir\\AppData\\Local\\Temp/ipykernel_3396/626879404.py:28: DeprecationWarning: find_element_by_* commands are deprecated. Please use find_element() instead\n",
      "  tempDate = driver.find_element_by_xpath(dateURL).text.split(\": \")[1]\n",
      "C:\\Users\\Amir\\AppData\\Local\\Temp/ipykernel_3396/626879404.py:14: DeprecationWarning: find_element_by_* commands are deprecated. Please use find_element() instead\n",
      "  tempRate = driver.find_element_by_xpath(starURL)\n",
      "C:\\Users\\Amir\\AppData\\Local\\Temp/ipykernel_3396/626879404.py:22: DeprecationWarning: find_element_by_* commands are deprecated. Please use find_element() instead\n",
      "  tempComment = driver.find_element_by_xpath(commentURL).text\n",
      "C:\\Users\\Amir\\AppData\\Local\\Temp/ipykernel_3396/626879404.py:28: DeprecationWarning: find_element_by_* commands are deprecated. Please use find_element() instead\n",
      "  tempDate = driver.find_element_by_xpath(dateURL).text.split(\": \")[1]\n",
      "C:\\Users\\Amir\\AppData\\Local\\Temp/ipykernel_3396/626879404.py:14: DeprecationWarning: find_element_by_* commands are deprecated. Please use find_element() instead\n",
      "  tempRate = driver.find_element_by_xpath(starURL)\n",
      "C:\\Users\\Amir\\AppData\\Local\\Temp/ipykernel_3396/626879404.py:22: DeprecationWarning: find_element_by_* commands are deprecated. Please use find_element() instead\n",
      "  tempComment = driver.find_element_by_xpath(commentURL).text\n"
     ]
    },
    {
     "name": "stdout",
     "output_type": "stream",
     "text": [
      "//*[@id=\"__next\"]/div/div/main/div/div[3]/section/div[11]/article/div/section/div[2]/p[2]\n",
      "//*[@id=\"__next\"]/div/div/main/div/div[3]/section/div[12]/article/div/section/div[2]/p[2]\n"
     ]
    },
    {
     "name": "stderr",
     "output_type": "stream",
     "text": [
      "C:\\Users\\Amir\\AppData\\Local\\Temp/ipykernel_3396/626879404.py:28: DeprecationWarning: find_element_by_* commands are deprecated. Please use find_element() instead\n",
      "  tempDate = driver.find_element_by_xpath(dateURL).text.split(\": \")[1]\n",
      "C:\\Users\\Amir\\AppData\\Local\\Temp/ipykernel_3396/626879404.py:14: DeprecationWarning: find_element_by_* commands are deprecated. Please use find_element() instead\n",
      "  tempRate = driver.find_element_by_xpath(starURL)\n",
      "C:\\Users\\Amir\\AppData\\Local\\Temp/ipykernel_3396/626879404.py:22: DeprecationWarning: find_element_by_* commands are deprecated. Please use find_element() instead\n",
      "  tempComment = driver.find_element_by_xpath(commentURL).text\n",
      "C:\\Users\\Amir\\AppData\\Local\\Temp/ipykernel_3396/626879404.py:28: DeprecationWarning: find_element_by_* commands are deprecated. Please use find_element() instead\n",
      "  tempDate = driver.find_element_by_xpath(dateURL).text.split(\": \")[1]\n",
      "C:\\Users\\Amir\\AppData\\Local\\Temp/ipykernel_3396/626879404.py:14: DeprecationWarning: find_element_by_* commands are deprecated. Please use find_element() instead\n",
      "  tempRate = driver.find_element_by_xpath(starURL)\n",
      "C:\\Users\\Amir\\AppData\\Local\\Temp/ipykernel_3396/626879404.py:22: DeprecationWarning: find_element_by_* commands are deprecated. Please use find_element() instead\n",
      "  tempComment = driver.find_element_by_xpath(commentURL).text\n"
     ]
    },
    {
     "name": "stdout",
     "output_type": "stream",
     "text": [
      "//*[@id=\"__next\"]/div/div/main/div/div[3]/section/div[13]/article/div/section/div[2]/p[2]\n",
      "//*[@id=\"__next\"]/div/div/main/div/div[3]/section/div[14]/article/div/section/div[2]/p[2]\n",
      "//*[@id=\"__next\"]/div/div/main/div/div[3]/section/div[16]/article/div/section/div[2]/p[2]\n",
      "//*[@id=\"__next\"]/div/div/main/div/div[3]/section/div[17]/article/div/section/div[2]/p[2]\n"
     ]
    },
    {
     "name": "stderr",
     "output_type": "stream",
     "text": [
      "C:\\Users\\Amir\\AppData\\Local\\Temp/ipykernel_3396/626879404.py:28: DeprecationWarning: find_element_by_* commands are deprecated. Please use find_element() instead\n",
      "  tempDate = driver.find_element_by_xpath(dateURL).text.split(\": \")[1]\n",
      "C:\\Users\\Amir\\AppData\\Local\\Temp/ipykernel_3396/626879404.py:14: DeprecationWarning: find_element_by_* commands are deprecated. Please use find_element() instead\n",
      "  tempRate = driver.find_element_by_xpath(starURL)\n",
      "C:\\Users\\Amir\\AppData\\Local\\Temp/ipykernel_3396/626879404.py:22: DeprecationWarning: find_element_by_* commands are deprecated. Please use find_element() instead\n",
      "  tempComment = driver.find_element_by_xpath(commentURL).text\n",
      "C:\\Users\\Amir\\AppData\\Local\\Temp/ipykernel_3396/626879404.py:28: DeprecationWarning: find_element_by_* commands are deprecated. Please use find_element() instead\n",
      "  tempDate = driver.find_element_by_xpath(dateURL).text.split(\": \")[1]\n",
      "C:\\Users\\Amir\\AppData\\Local\\Temp/ipykernel_3396/626879404.py:14: DeprecationWarning: find_element_by_* commands are deprecated. Please use find_element() instead\n",
      "  tempRate = driver.find_element_by_xpath(starURL)\n",
      "C:\\Users\\Amir\\AppData\\Local\\Temp/ipykernel_3396/626879404.py:22: DeprecationWarning: find_element_by_* commands are deprecated. Please use find_element() instead\n",
      "  tempComment = driver.find_element_by_xpath(commentURL).text\n",
      "C:\\Users\\Amir\\AppData\\Local\\Temp/ipykernel_3396/626879404.py:28: DeprecationWarning: find_element_by_* commands are deprecated. Please use find_element() instead\n",
      "  tempDate = driver.find_element_by_xpath(dateURL).text.split(\": \")[1]\n",
      "C:\\Users\\Amir\\AppData\\Local\\Temp/ipykernel_3396/626879404.py:14: DeprecationWarning: find_element_by_* commands are deprecated. Please use find_element() instead\n",
      "  tempRate = driver.find_element_by_xpath(starURL)\n",
      "C:\\Users\\Amir\\AppData\\Local\\Temp/ipykernel_3396/626879404.py:22: DeprecationWarning: find_element_by_* commands are deprecated. Please use find_element() instead\n",
      "  tempComment = driver.find_element_by_xpath(commentURL).text\n",
      "C:\\Users\\Amir\\AppData\\Local\\Temp/ipykernel_3396/626879404.py:28: DeprecationWarning: find_element_by_* commands are deprecated. Please use find_element() instead\n",
      "  tempDate = driver.find_element_by_xpath(dateURL).text.split(\": \")[1]\n",
      "C:\\Users\\Amir\\AppData\\Local\\Temp/ipykernel_3396/626879404.py:14: DeprecationWarning: find_element_by_* commands are deprecated. Please use find_element() instead\n",
      "  tempRate = driver.find_element_by_xpath(starURL)\n",
      "C:\\Users\\Amir\\AppData\\Local\\Temp/ipykernel_3396/626879404.py:22: DeprecationWarning: find_element_by_* commands are deprecated. Please use find_element() instead\n",
      "  tempComment = driver.find_element_by_xpath(commentURL).text\n",
      "C:\\Users\\Amir\\AppData\\Local\\Temp/ipykernel_3396/626879404.py:28: DeprecationWarning: find_element_by_* commands are deprecated. Please use find_element() instead\n",
      "  tempDate = driver.find_element_by_xpath(dateURL).text.split(\": \")[1]\n"
     ]
    },
    {
     "name": "stdout",
     "output_type": "stream",
     "text": [
      "//*[@id=\"__next\"]/div/div/main/div/div[3]/section/div[18]/article/div/section/div[2]/p[2]\n",
      "//*[@id=\"__next\"]/div/div/main/div/div[3]/section/div[19]/article/div/section/div[2]/p[2]\n"
     ]
    },
    {
     "name": "stderr",
     "output_type": "stream",
     "text": [
      "C:\\Users\\Amir\\AppData\\Local\\Temp/ipykernel_3396/626879404.py:14: DeprecationWarning: find_element_by_* commands are deprecated. Please use find_element() instead\n",
      "  tempRate = driver.find_element_by_xpath(starURL)\n",
      "C:\\Users\\Amir\\AppData\\Local\\Temp/ipykernel_3396/626879404.py:22: DeprecationWarning: find_element_by_* commands are deprecated. Please use find_element() instead\n",
      "  tempComment = driver.find_element_by_xpath(commentURL).text\n",
      "C:\\Users\\Amir\\AppData\\Local\\Temp/ipykernel_3396/626879404.py:28: DeprecationWarning: find_element_by_* commands are deprecated. Please use find_element() instead\n",
      "  tempDate = driver.find_element_by_xpath(dateURL).text.split(\": \")[1]\n",
      "C:\\Users\\Amir\\AppData\\Local\\Temp/ipykernel_3396/626879404.py:14: DeprecationWarning: find_element_by_* commands are deprecated. Please use find_element() instead\n",
      "  tempRate = driver.find_element_by_xpath(starURL)\n",
      "C:\\Users\\Amir\\AppData\\Local\\Temp/ipykernel_3396/626879404.py:22: DeprecationWarning: find_element_by_* commands are deprecated. Please use find_element() instead\n",
      "  tempComment = driver.find_element_by_xpath(commentURL).text\n",
      "C:\\Users\\Amir\\AppData\\Local\\Temp/ipykernel_3396/626879404.py:28: DeprecationWarning: find_element_by_* commands are deprecated. Please use find_element() instead\n",
      "  tempDate = driver.find_element_by_xpath(dateURL).text.split(\": \")[1]\n",
      "C:\\Users\\Amir\\AppData\\Local\\Temp/ipykernel_3396/626879404.py:14: DeprecationWarning: find_element_by_* commands are deprecated. Please use find_element() instead\n",
      "  tempRate = driver.find_element_by_xpath(starURL)\n"
     ]
    },
    {
     "name": "stdout",
     "output_type": "stream",
     "text": [
      "//*[@id=\"__next\"]/div/div/main/div/div[3]/section/div[20]/article/div/section/div[2]/p[2]\n",
      "//*[@id=\"__next\"]/div/div/main/div/div[3]/section/div[21]/article/div/section/div[2]/p[2]\n",
      "//*[@id=\"__next\"]/div/div/main/div/div[3]/section/div[22]/article/div/section/div[2]/p[2]\n"
     ]
    },
    {
     "name": "stderr",
     "output_type": "stream",
     "text": [
      "C:\\Users\\Amir\\AppData\\Local\\Temp/ipykernel_3396/626879404.py:22: DeprecationWarning: find_element_by_* commands are deprecated. Please use find_element() instead\n",
      "  tempComment = driver.find_element_by_xpath(commentURL).text\n",
      "C:\\Users\\Amir\\AppData\\Local\\Temp/ipykernel_3396/626879404.py:28: DeprecationWarning: find_element_by_* commands are deprecated. Please use find_element() instead\n",
      "  tempDate = driver.find_element_by_xpath(dateURL).text.split(\": \")[1]\n",
      "C:\\Users\\Amir\\AppData\\Local\\Temp/ipykernel_3396/626879404.py:14: DeprecationWarning: find_element_by_* commands are deprecated. Please use find_element() instead\n",
      "  tempRate = driver.find_element_by_xpath(starURL)\n",
      "C:\\Users\\Amir\\AppData\\Local\\Temp/ipykernel_3396/626879404.py:22: DeprecationWarning: find_element_by_* commands are deprecated. Please use find_element() instead\n",
      "  tempComment = driver.find_element_by_xpath(commentURL).text\n",
      "C:\\Users\\Amir\\AppData\\Local\\Temp/ipykernel_3396/626879404.py:28: DeprecationWarning: find_element_by_* commands are deprecated. Please use find_element() instead\n",
      "  tempDate = driver.find_element_by_xpath(dateURL).text.split(\": \")[1]\n",
      "C:\\Users\\Amir\\AppData\\Local\\Temp/ipykernel_3396/626879404.py:14: DeprecationWarning: find_element_by_* commands are deprecated. Please use find_element() instead\n",
      "  tempRate = driver.find_element_by_xpath(starURL)\n",
      "C:\\Users\\Amir\\AppData\\Local\\Temp/ipykernel_3396/626879404.py:22: DeprecationWarning: find_element_by_* commands are deprecated. Please use find_element() instead\n",
      "  tempComment = driver.find_element_by_xpath(commentURL).text\n"
     ]
    },
    {
     "name": "stdout",
     "output_type": "stream",
     "text": [
      "//*[@id=\"__next\"]/div/div/main/div/div[3]/section/div[23]/article/div/section/div[2]/p[2]\n",
      "//*[@id=\"__next\"]/div/div/main/div/div[3]/section/div[24]/article/div/section/div[2]/p[2]\n"
     ]
    },
    {
     "name": "stderr",
     "output_type": "stream",
     "text": [
      "C:\\Users\\Amir\\AppData\\Local\\Temp/ipykernel_3396/626879404.py:28: DeprecationWarning: find_element_by_* commands are deprecated. Please use find_element() instead\n",
      "  tempDate = driver.find_element_by_xpath(dateURL).text.split(\": \")[1]\n",
      "C:\\Users\\Amir\\AppData\\Local\\Temp/ipykernel_3396/626879404.py:14: DeprecationWarning: find_element_by_* commands are deprecated. Please use find_element() instead\n",
      "  tempRate = driver.find_element_by_xpath(starURL)\n",
      "C:\\Users\\Amir\\AppData\\Local\\Temp/ipykernel_3396/626879404.py:22: DeprecationWarning: find_element_by_* commands are deprecated. Please use find_element() instead\n",
      "  tempComment = driver.find_element_by_xpath(commentURL).text\n",
      "C:\\Users\\Amir\\AppData\\Local\\Temp/ipykernel_3396/626879404.py:28: DeprecationWarning: find_element_by_* commands are deprecated. Please use find_element() instead\n",
      "  tempDate = driver.find_element_by_xpath(dateURL).text.split(\": \")[1]\n"
     ]
    },
    {
     "name": "stdout",
     "output_type": "stream",
     "text": [
      "//*[@id=\"__next\"]/div/div/main/div/div[3]/section/div[25]/article/div/section/div[2]/p[2]\n"
     ]
    },
    {
     "name": "stderr",
     "output_type": "stream",
     "text": [
      "C:\\Users\\Amir\\AppData\\Local\\Temp/ipykernel_3396/626879404.py:14: DeprecationWarning: find_element_by_* commands are deprecated. Please use find_element() instead\n",
      "  tempRate = driver.find_element_by_xpath(starURL)\n",
      "C:\\Users\\Amir\\AppData\\Local\\Temp/ipykernel_3396/626879404.py:22: DeprecationWarning: find_element_by_* commands are deprecated. Please use find_element() instead\n",
      "  tempComment = driver.find_element_by_xpath(commentURL).text\n",
      "C:\\Users\\Amir\\AppData\\Local\\Temp/ipykernel_3396/626879404.py:28: DeprecationWarning: find_element_by_* commands are deprecated. Please use find_element() instead\n",
      "  tempDate = driver.find_element_by_xpath(dateURL).text.split(\": \")[1]\n",
      "C:\\Users\\Amir\\AppData\\Local\\Temp/ipykernel_3396/626879404.py:14: DeprecationWarning: find_element_by_* commands are deprecated. Please use find_element() instead\n",
      "  tempRate = driver.find_element_by_xpath(starURL)\n",
      "C:\\Users\\Amir\\AppData\\Local\\Temp/ipykernel_3396/626879404.py:22: DeprecationWarning: find_element_by_* commands are deprecated. Please use find_element() instead\n",
      "  tempComment = driver.find_element_by_xpath(commentURL).text\n"
     ]
    },
    {
     "name": "stdout",
     "output_type": "stream",
     "text": [
      "//*[@id=\"__next\"]/div/div/main/div/div[3]/section/div[4]/article/div/section/div[2]/p[2]\n",
      "//*[@id=\"__next\"]/div/div/main/div/div[3]/section/div[6]/article/div/section/div[2]/p[2]\n"
     ]
    },
    {
     "name": "stderr",
     "output_type": "stream",
     "text": [
      "C:\\Users\\Amir\\AppData\\Local\\Temp/ipykernel_3396/626879404.py:28: DeprecationWarning: find_element_by_* commands are deprecated. Please use find_element() instead\n",
      "  tempDate = driver.find_element_by_xpath(dateURL).text.split(\": \")[1]\n",
      "C:\\Users\\Amir\\AppData\\Local\\Temp/ipykernel_3396/626879404.py:14: DeprecationWarning: find_element_by_* commands are deprecated. Please use find_element() instead\n",
      "  tempRate = driver.find_element_by_xpath(starURL)\n",
      "C:\\Users\\Amir\\AppData\\Local\\Temp/ipykernel_3396/626879404.py:22: DeprecationWarning: find_element_by_* commands are deprecated. Please use find_element() instead\n",
      "  tempComment = driver.find_element_by_xpath(commentURL).text\n",
      "C:\\Users\\Amir\\AppData\\Local\\Temp/ipykernel_3396/626879404.py:28: DeprecationWarning: find_element_by_* commands are deprecated. Please use find_element() instead\n",
      "  tempDate = driver.find_element_by_xpath(dateURL).text.split(\": \")[1]\n",
      "C:\\Users\\Amir\\AppData\\Local\\Temp/ipykernel_3396/626879404.py:14: DeprecationWarning: find_element_by_* commands are deprecated. Please use find_element() instead\n",
      "  tempRate = driver.find_element_by_xpath(starURL)\n",
      "C:\\Users\\Amir\\AppData\\Local\\Temp/ipykernel_3396/626879404.py:22: DeprecationWarning: find_element_by_* commands are deprecated. Please use find_element() instead\n",
      "  tempComment = driver.find_element_by_xpath(commentURL).text\n"
     ]
    },
    {
     "name": "stdout",
     "output_type": "stream",
     "text": [
      "//*[@id=\"__next\"]/div/div/main/div/div[3]/section/div[7]/article/div/section/div[2]/p[2]\n",
      "//*[@id=\"__next\"]/div/div/main/div/div[3]/section/div[8]/article/div/section/div[2]/p[2]\n"
     ]
    },
    {
     "name": "stderr",
     "output_type": "stream",
     "text": [
      "C:\\Users\\Amir\\AppData\\Local\\Temp/ipykernel_3396/626879404.py:28: DeprecationWarning: find_element_by_* commands are deprecated. Please use find_element() instead\n",
      "  tempDate = driver.find_element_by_xpath(dateURL).text.split(\": \")[1]\n",
      "C:\\Users\\Amir\\AppData\\Local\\Temp/ipykernel_3396/626879404.py:14: DeprecationWarning: find_element_by_* commands are deprecated. Please use find_element() instead\n",
      "  tempRate = driver.find_element_by_xpath(starURL)\n",
      "C:\\Users\\Amir\\AppData\\Local\\Temp/ipykernel_3396/626879404.py:22: DeprecationWarning: find_element_by_* commands are deprecated. Please use find_element() instead\n",
      "  tempComment = driver.find_element_by_xpath(commentURL).text\n",
      "C:\\Users\\Amir\\AppData\\Local\\Temp/ipykernel_3396/626879404.py:28: DeprecationWarning: find_element_by_* commands are deprecated. Please use find_element() instead\n",
      "  tempDate = driver.find_element_by_xpath(dateURL).text.split(\": \")[1]\n",
      "C:\\Users\\Amir\\AppData\\Local\\Temp/ipykernel_3396/626879404.py:14: DeprecationWarning: find_element_by_* commands are deprecated. Please use find_element() instead\n",
      "  tempRate = driver.find_element_by_xpath(starURL)\n"
     ]
    },
    {
     "name": "stdout",
     "output_type": "stream",
     "text": [
      "//*[@id=\"__next\"]/div/div/main/div/div[3]/section/div[9]/article/div/section/div[2]/p[2]\n",
      "//*[@id=\"__next\"]/div/div/main/div/div[3]/section/div[10]/article/div/section/div[2]/p[2]\n"
     ]
    },
    {
     "name": "stderr",
     "output_type": "stream",
     "text": [
      "C:\\Users\\Amir\\AppData\\Local\\Temp/ipykernel_3396/626879404.py:22: DeprecationWarning: find_element_by_* commands are deprecated. Please use find_element() instead\n",
      "  tempComment = driver.find_element_by_xpath(commentURL).text\n",
      "C:\\Users\\Amir\\AppData\\Local\\Temp/ipykernel_3396/626879404.py:28: DeprecationWarning: find_element_by_* commands are deprecated. Please use find_element() instead\n",
      "  tempDate = driver.find_element_by_xpath(dateURL).text.split(\": \")[1]\n",
      "C:\\Users\\Amir\\AppData\\Local\\Temp/ipykernel_3396/626879404.py:14: DeprecationWarning: find_element_by_* commands are deprecated. Please use find_element() instead\n",
      "  tempRate = driver.find_element_by_xpath(starURL)\n",
      "C:\\Users\\Amir\\AppData\\Local\\Temp/ipykernel_3396/626879404.py:22: DeprecationWarning: find_element_by_* commands are deprecated. Please use find_element() instead\n",
      "  tempComment = driver.find_element_by_xpath(commentURL).text\n",
      "C:\\Users\\Amir\\AppData\\Local\\Temp/ipykernel_3396/626879404.py:28: DeprecationWarning: find_element_by_* commands are deprecated. Please use find_element() instead\n",
      "  tempDate = driver.find_element_by_xpath(dateURL).text.split(\": \")[1]\n",
      "C:\\Users\\Amir\\AppData\\Local\\Temp/ipykernel_3396/626879404.py:14: DeprecationWarning: find_element_by_* commands are deprecated. Please use find_element() instead\n",
      "  tempRate = driver.find_element_by_xpath(starURL)\n",
      "C:\\Users\\Amir\\AppData\\Local\\Temp/ipykernel_3396/626879404.py:22: DeprecationWarning: find_element_by_* commands are deprecated. Please use find_element() instead\n",
      "  tempComment = driver.find_element_by_xpath(commentURL).text\n"
     ]
    },
    {
     "name": "stdout",
     "output_type": "stream",
     "text": [
      "//*[@id=\"__next\"]/div/div/main/div/div[3]/section/div[11]/article/div/section/div[2]/p[2]\n",
      "//*[@id=\"__next\"]/div/div/main/div/div[3]/section/div[12]/article/div/section/div[2]/p[2]\n"
     ]
    },
    {
     "name": "stderr",
     "output_type": "stream",
     "text": [
      "C:\\Users\\Amir\\AppData\\Local\\Temp/ipykernel_3396/626879404.py:28: DeprecationWarning: find_element_by_* commands are deprecated. Please use find_element() instead\n",
      "  tempDate = driver.find_element_by_xpath(dateURL).text.split(\": \")[1]\n",
      "C:\\Users\\Amir\\AppData\\Local\\Temp/ipykernel_3396/626879404.py:14: DeprecationWarning: find_element_by_* commands are deprecated. Please use find_element() instead\n",
      "  tempRate = driver.find_element_by_xpath(starURL)\n",
      "C:\\Users\\Amir\\AppData\\Local\\Temp/ipykernel_3396/626879404.py:22: DeprecationWarning: find_element_by_* commands are deprecated. Please use find_element() instead\n",
      "  tempComment = driver.find_element_by_xpath(commentURL).text\n",
      "C:\\Users\\Amir\\AppData\\Local\\Temp/ipykernel_3396/626879404.py:28: DeprecationWarning: find_element_by_* commands are deprecated. Please use find_element() instead\n",
      "  tempDate = driver.find_element_by_xpath(dateURL).text.split(\": \")[1]\n",
      "C:\\Users\\Amir\\AppData\\Local\\Temp/ipykernel_3396/626879404.py:14: DeprecationWarning: find_element_by_* commands are deprecated. Please use find_element() instead\n",
      "  tempRate = driver.find_element_by_xpath(starURL)\n",
      "C:\\Users\\Amir\\AppData\\Local\\Temp/ipykernel_3396/626879404.py:22: DeprecationWarning: find_element_by_* commands are deprecated. Please use find_element() instead\n",
      "  tempComment = driver.find_element_by_xpath(commentURL).text\n"
     ]
    },
    {
     "name": "stdout",
     "output_type": "stream",
     "text": [
      "//*[@id=\"__next\"]/div/div/main/div/div[3]/section/div[13]/article/div/section/div[2]/p[2]\n",
      "//*[@id=\"__next\"]/div/div/main/div/div[3]/section/div[14]/article/div/section/div[2]/p[2]\n"
     ]
    },
    {
     "name": "stderr",
     "output_type": "stream",
     "text": [
      "C:\\Users\\Amir\\AppData\\Local\\Temp/ipykernel_3396/626879404.py:28: DeprecationWarning: find_element_by_* commands are deprecated. Please use find_element() instead\n",
      "  tempDate = driver.find_element_by_xpath(dateURL).text.split(\": \")[1]\n",
      "C:\\Users\\Amir\\AppData\\Local\\Temp/ipykernel_3396/626879404.py:14: DeprecationWarning: find_element_by_* commands are deprecated. Please use find_element() instead\n",
      "  tempRate = driver.find_element_by_xpath(starURL)\n",
      "C:\\Users\\Amir\\AppData\\Local\\Temp/ipykernel_3396/626879404.py:22: DeprecationWarning: find_element_by_* commands are deprecated. Please use find_element() instead\n",
      "  tempComment = driver.find_element_by_xpath(commentURL).text\n",
      "C:\\Users\\Amir\\AppData\\Local\\Temp/ipykernel_3396/626879404.py:28: DeprecationWarning: find_element_by_* commands are deprecated. Please use find_element() instead\n",
      "  tempDate = driver.find_element_by_xpath(dateURL).text.split(\": \")[1]\n"
     ]
    },
    {
     "name": "stdout",
     "output_type": "stream",
     "text": [
      "//*[@id=\"__next\"]/div/div/main/div/div[3]/section/div[16]/article/div/section/div[2]/p[2]\n",
      "//*[@id=\"__next\"]/div/div/main/div/div[3]/section/div[17]/article/div/section/div[2]/p[2]\n",
      "//*[@id=\"__next\"]/div/div/main/div/div[3]/section/div[18]/article/div/section/div[2]/p[2]\n"
     ]
    },
    {
     "name": "stderr",
     "output_type": "stream",
     "text": [
      "C:\\Users\\Amir\\AppData\\Local\\Temp/ipykernel_3396/626879404.py:14: DeprecationWarning: find_element_by_* commands are deprecated. Please use find_element() instead\n",
      "  tempRate = driver.find_element_by_xpath(starURL)\n",
      "C:\\Users\\Amir\\AppData\\Local\\Temp/ipykernel_3396/626879404.py:22: DeprecationWarning: find_element_by_* commands are deprecated. Please use find_element() instead\n",
      "  tempComment = driver.find_element_by_xpath(commentURL).text\n",
      "C:\\Users\\Amir\\AppData\\Local\\Temp/ipykernel_3396/626879404.py:28: DeprecationWarning: find_element_by_* commands are deprecated. Please use find_element() instead\n",
      "  tempDate = driver.find_element_by_xpath(dateURL).text.split(\": \")[1]\n",
      "C:\\Users\\Amir\\AppData\\Local\\Temp/ipykernel_3396/626879404.py:14: DeprecationWarning: find_element_by_* commands are deprecated. Please use find_element() instead\n",
      "  tempRate = driver.find_element_by_xpath(starURL)\n",
      "C:\\Users\\Amir\\AppData\\Local\\Temp/ipykernel_3396/626879404.py:22: DeprecationWarning: find_element_by_* commands are deprecated. Please use find_element() instead\n",
      "  tempComment = driver.find_element_by_xpath(commentURL).text\n",
      "C:\\Users\\Amir\\AppData\\Local\\Temp/ipykernel_3396/626879404.py:28: DeprecationWarning: find_element_by_* commands are deprecated. Please use find_element() instead\n",
      "  tempDate = driver.find_element_by_xpath(dateURL).text.split(\": \")[1]\n",
      "C:\\Users\\Amir\\AppData\\Local\\Temp/ipykernel_3396/626879404.py:14: DeprecationWarning: find_element_by_* commands are deprecated. Please use find_element() instead\n",
      "  tempRate = driver.find_element_by_xpath(starURL)\n",
      "C:\\Users\\Amir\\AppData\\Local\\Temp/ipykernel_3396/626879404.py:22: DeprecationWarning: find_element_by_* commands are deprecated. Please use find_element() instead\n",
      "  tempComment = driver.find_element_by_xpath(commentURL).text\n",
      "C:\\Users\\Amir\\AppData\\Local\\Temp/ipykernel_3396/626879404.py:28: DeprecationWarning: find_element_by_* commands are deprecated. Please use find_element() instead\n",
      "  tempDate = driver.find_element_by_xpath(dateURL).text.split(\": \")[1]\n",
      "C:\\Users\\Amir\\AppData\\Local\\Temp/ipykernel_3396/626879404.py:14: DeprecationWarning: find_element_by_* commands are deprecated. Please use find_element() instead\n",
      "  tempRate = driver.find_element_by_xpath(starURL)\n",
      "C:\\Users\\Amir\\AppData\\Local\\Temp/ipykernel_3396/626879404.py:22: DeprecationWarning: find_element_by_* commands are deprecated. Please use find_element() instead\n",
      "  tempComment = driver.find_element_by_xpath(commentURL).text\n",
      "C:\\Users\\Amir\\AppData\\Local\\Temp/ipykernel_3396/626879404.py:28: DeprecationWarning: find_element_by_* commands are deprecated. Please use find_element() instead\n",
      "  tempDate = driver.find_element_by_xpath(dateURL).text.split(\": \")[1]\n",
      "C:\\Users\\Amir\\AppData\\Local\\Temp/ipykernel_3396/626879404.py:14: DeprecationWarning: find_element_by_* commands are deprecated. Please use find_element() instead\n",
      "  tempRate = driver.find_element_by_xpath(starURL)\n"
     ]
    },
    {
     "name": "stdout",
     "output_type": "stream",
     "text": [
      "//*[@id=\"__next\"]/div/div/main/div/div[3]/section/div[19]/article/div/section/div[2]/p[2]\n",
      "//*[@id=\"__next\"]/div/div/main/div/div[3]/section/div[20]/article/div/section/div[2]/p[2]\n",
      "//*[@id=\"__next\"]/div/div/main/div/div[3]/section/div[21]/article/div/section/div[2]/p[2]\n"
     ]
    },
    {
     "name": "stderr",
     "output_type": "stream",
     "text": [
      "C:\\Users\\Amir\\AppData\\Local\\Temp/ipykernel_3396/626879404.py:22: DeprecationWarning: find_element_by_* commands are deprecated. Please use find_element() instead\n",
      "  tempComment = driver.find_element_by_xpath(commentURL).text\n",
      "C:\\Users\\Amir\\AppData\\Local\\Temp/ipykernel_3396/626879404.py:28: DeprecationWarning: find_element_by_* commands are deprecated. Please use find_element() instead\n",
      "  tempDate = driver.find_element_by_xpath(dateURL).text.split(\": \")[1]\n",
      "C:\\Users\\Amir\\AppData\\Local\\Temp/ipykernel_3396/626879404.py:14: DeprecationWarning: find_element_by_* commands are deprecated. Please use find_element() instead\n",
      "  tempRate = driver.find_element_by_xpath(starURL)\n",
      "C:\\Users\\Amir\\AppData\\Local\\Temp/ipykernel_3396/626879404.py:22: DeprecationWarning: find_element_by_* commands are deprecated. Please use find_element() instead\n",
      "  tempComment = driver.find_element_by_xpath(commentURL).text\n",
      "C:\\Users\\Amir\\AppData\\Local\\Temp/ipykernel_3396/626879404.py:28: DeprecationWarning: find_element_by_* commands are deprecated. Please use find_element() instead\n",
      "  tempDate = driver.find_element_by_xpath(dateURL).text.split(\": \")[1]\n",
      "C:\\Users\\Amir\\AppData\\Local\\Temp/ipykernel_3396/626879404.py:14: DeprecationWarning: find_element_by_* commands are deprecated. Please use find_element() instead\n",
      "  tempRate = driver.find_element_by_xpath(starURL)\n"
     ]
    },
    {
     "name": "stdout",
     "output_type": "stream",
     "text": [
      "//*[@id=\"__next\"]/div/div/main/div/div[3]/section/div[22]/article/div/section/div[2]/p[2]\n",
      "//*[@id=\"__next\"]/div/div/main/div/div[3]/section/div[23]/article/div/section/div[2]/p[2]\n"
     ]
    },
    {
     "name": "stderr",
     "output_type": "stream",
     "text": [
      "C:\\Users\\Amir\\AppData\\Local\\Temp/ipykernel_3396/626879404.py:22: DeprecationWarning: find_element_by_* commands are deprecated. Please use find_element() instead\n",
      "  tempComment = driver.find_element_by_xpath(commentURL).text\n",
      "C:\\Users\\Amir\\AppData\\Local\\Temp/ipykernel_3396/626879404.py:28: DeprecationWarning: find_element_by_* commands are deprecated. Please use find_element() instead\n",
      "  tempDate = driver.find_element_by_xpath(dateURL).text.split(\": \")[1]\n",
      "C:\\Users\\Amir\\AppData\\Local\\Temp/ipykernel_3396/626879404.py:14: DeprecationWarning: find_element_by_* commands are deprecated. Please use find_element() instead\n",
      "  tempRate = driver.find_element_by_xpath(starURL)\n",
      "C:\\Users\\Amir\\AppData\\Local\\Temp/ipykernel_3396/626879404.py:22: DeprecationWarning: find_element_by_* commands are deprecated. Please use find_element() instead\n",
      "  tempComment = driver.find_element_by_xpath(commentURL).text\n",
      "C:\\Users\\Amir\\AppData\\Local\\Temp/ipykernel_3396/626879404.py:28: DeprecationWarning: find_element_by_* commands are deprecated. Please use find_element() instead\n",
      "  tempDate = driver.find_element_by_xpath(dateURL).text.split(\": \")[1]\n",
      "C:\\Users\\Amir\\AppData\\Local\\Temp/ipykernel_3396/626879404.py:14: DeprecationWarning: find_element_by_* commands are deprecated. Please use find_element() instead\n",
      "  tempRate = driver.find_element_by_xpath(starURL)\n"
     ]
    },
    {
     "name": "stdout",
     "output_type": "stream",
     "text": [
      "//*[@id=\"__next\"]/div/div/main/div/div[3]/section/div[24]/article/div/section/div[2]/p[2]\n",
      "//*[@id=\"__next\"]/div/div/main/div/div[3]/section/div[25]/article/div/section/div[2]/p[2]\n"
     ]
    },
    {
     "name": "stderr",
     "output_type": "stream",
     "text": [
      "C:\\Users\\Amir\\AppData\\Local\\Temp/ipykernel_3396/626879404.py:22: DeprecationWarning: find_element_by_* commands are deprecated. Please use find_element() instead\n",
      "  tempComment = driver.find_element_by_xpath(commentURL).text\n",
      "C:\\Users\\Amir\\AppData\\Local\\Temp/ipykernel_3396/626879404.py:28: DeprecationWarning: find_element_by_* commands are deprecated. Please use find_element() instead\n",
      "  tempDate = driver.find_element_by_xpath(dateURL).text.split(\": \")[1]\n",
      "C:\\Users\\Amir\\AppData\\Local\\Temp/ipykernel_3396/626879404.py:14: DeprecationWarning: find_element_by_* commands are deprecated. Please use find_element() instead\n",
      "  tempRate = driver.find_element_by_xpath(starURL)\n",
      "C:\\Users\\Amir\\AppData\\Local\\Temp/ipykernel_3396/626879404.py:22: DeprecationWarning: find_element_by_* commands are deprecated. Please use find_element() instead\n",
      "  tempComment = driver.find_element_by_xpath(commentURL).text\n",
      "C:\\Users\\Amir\\AppData\\Local\\Temp/ipykernel_3396/626879404.py:28: DeprecationWarning: find_element_by_* commands are deprecated. Please use find_element() instead\n",
      "  tempDate = driver.find_element_by_xpath(dateURL).text.split(\": \")[1]\n",
      "C:\\Users\\Amir\\AppData\\Local\\Temp/ipykernel_3396/626879404.py:14: DeprecationWarning: find_element_by_* commands are deprecated. Please use find_element() instead\n",
      "  tempRate = driver.find_element_by_xpath(starURL)\n",
      "C:\\Users\\Amir\\AppData\\Local\\Temp/ipykernel_3396/626879404.py:22: DeprecationWarning: find_element_by_* commands are deprecated. Please use find_element() instead\n",
      "  tempComment = driver.find_element_by_xpath(commentURL).text\n",
      "C:\\Users\\Amir\\AppData\\Local\\Temp/ipykernel_3396/626879404.py:28: DeprecationWarning: find_element_by_* commands are deprecated. Please use find_element() instead\n",
      "  tempDate = driver.find_element_by_xpath(dateURL).text.split(\": \")[1]\n"
     ]
    },
    {
     "name": "stdout",
     "output_type": "stream",
     "text": [
      "//*[@id=\"__next\"]/div/div/main/div/div[3]/section/div[4]/article/div/section/div[2]/p[2]\n",
      "//*[@id=\"__next\"]/div/div/main/div/div[3]/section/div[6]/article/div/section/div[2]/p[2]\n"
     ]
    },
    {
     "name": "stderr",
     "output_type": "stream",
     "text": [
      "C:\\Users\\Amir\\AppData\\Local\\Temp/ipykernel_3396/626879404.py:14: DeprecationWarning: find_element_by_* commands are deprecated. Please use find_element() instead\n",
      "  tempRate = driver.find_element_by_xpath(starURL)\n",
      "C:\\Users\\Amir\\AppData\\Local\\Temp/ipykernel_3396/626879404.py:22: DeprecationWarning: find_element_by_* commands are deprecated. Please use find_element() instead\n",
      "  tempComment = driver.find_element_by_xpath(commentURL).text\n",
      "C:\\Users\\Amir\\AppData\\Local\\Temp/ipykernel_3396/626879404.py:28: DeprecationWarning: find_element_by_* commands are deprecated. Please use find_element() instead\n",
      "  tempDate = driver.find_element_by_xpath(dateURL).text.split(\": \")[1]\n",
      "C:\\Users\\Amir\\AppData\\Local\\Temp/ipykernel_3396/626879404.py:14: DeprecationWarning: find_element_by_* commands are deprecated. Please use find_element() instead\n",
      "  tempRate = driver.find_element_by_xpath(starURL)\n",
      "C:\\Users\\Amir\\AppData\\Local\\Temp/ipykernel_3396/626879404.py:22: DeprecationWarning: find_element_by_* commands are deprecated. Please use find_element() instead\n",
      "  tempComment = driver.find_element_by_xpath(commentURL).text\n"
     ]
    },
    {
     "name": "stdout",
     "output_type": "stream",
     "text": [
      "//*[@id=\"__next\"]/div/div/main/div/div[3]/section/div[7]/article/div/section/div[2]/p[2]\n",
      "//*[@id=\"__next\"]/div/div/main/div/div[3]/section/div[8]/article/div/section/div[2]/p[2]\n"
     ]
    },
    {
     "name": "stderr",
     "output_type": "stream",
     "text": [
      "C:\\Users\\Amir\\AppData\\Local\\Temp/ipykernel_3396/626879404.py:28: DeprecationWarning: find_element_by_* commands are deprecated. Please use find_element() instead\n",
      "  tempDate = driver.find_element_by_xpath(dateURL).text.split(\": \")[1]\n",
      "C:\\Users\\Amir\\AppData\\Local\\Temp/ipykernel_3396/626879404.py:14: DeprecationWarning: find_element_by_* commands are deprecated. Please use find_element() instead\n",
      "  tempRate = driver.find_element_by_xpath(starURL)\n",
      "C:\\Users\\Amir\\AppData\\Local\\Temp/ipykernel_3396/626879404.py:22: DeprecationWarning: find_element_by_* commands are deprecated. Please use find_element() instead\n",
      "  tempComment = driver.find_element_by_xpath(commentURL).text\n",
      "C:\\Users\\Amir\\AppData\\Local\\Temp/ipykernel_3396/626879404.py:28: DeprecationWarning: find_element_by_* commands are deprecated. Please use find_element() instead\n",
      "  tempDate = driver.find_element_by_xpath(dateURL).text.split(\": \")[1]\n",
      "C:\\Users\\Amir\\AppData\\Local\\Temp/ipykernel_3396/626879404.py:14: DeprecationWarning: find_element_by_* commands are deprecated. Please use find_element() instead\n",
      "  tempRate = driver.find_element_by_xpath(starURL)\n",
      "C:\\Users\\Amir\\AppData\\Local\\Temp/ipykernel_3396/626879404.py:22: DeprecationWarning: find_element_by_* commands are deprecated. Please use find_element() instead\n",
      "  tempComment = driver.find_element_by_xpath(commentURL).text\n"
     ]
    },
    {
     "name": "stdout",
     "output_type": "stream",
     "text": [
      "//*[@id=\"__next\"]/div/div/main/div/div[3]/section/div[9]/article/div/section/div[2]/p[2]\n",
      "//*[@id=\"__next\"]/div/div/main/div/div[3]/section/div[10]/article/div/section/div[2]/p[2]\n"
     ]
    },
    {
     "name": "stderr",
     "output_type": "stream",
     "text": [
      "C:\\Users\\Amir\\AppData\\Local\\Temp/ipykernel_3396/626879404.py:28: DeprecationWarning: find_element_by_* commands are deprecated. Please use find_element() instead\n",
      "  tempDate = driver.find_element_by_xpath(dateURL).text.split(\": \")[1]\n",
      "C:\\Users\\Amir\\AppData\\Local\\Temp/ipykernel_3396/626879404.py:14: DeprecationWarning: find_element_by_* commands are deprecated. Please use find_element() instead\n",
      "  tempRate = driver.find_element_by_xpath(starURL)\n",
      "C:\\Users\\Amir\\AppData\\Local\\Temp/ipykernel_3396/626879404.py:22: DeprecationWarning: find_element_by_* commands are deprecated. Please use find_element() instead\n",
      "  tempComment = driver.find_element_by_xpath(commentURL).text\n",
      "C:\\Users\\Amir\\AppData\\Local\\Temp/ipykernel_3396/626879404.py:28: DeprecationWarning: find_element_by_* commands are deprecated. Please use find_element() instead\n",
      "  tempDate = driver.find_element_by_xpath(dateURL).text.split(\": \")[1]\n",
      "C:\\Users\\Amir\\AppData\\Local\\Temp/ipykernel_3396/626879404.py:14: DeprecationWarning: find_element_by_* commands are deprecated. Please use find_element() instead\n",
      "  tempRate = driver.find_element_by_xpath(starURL)\n",
      "C:\\Users\\Amir\\AppData\\Local\\Temp/ipykernel_3396/626879404.py:22: DeprecationWarning: find_element_by_* commands are deprecated. Please use find_element() instead\n",
      "  tempComment = driver.find_element_by_xpath(commentURL).text\n",
      "C:\\Users\\Amir\\AppData\\Local\\Temp/ipykernel_3396/626879404.py:28: DeprecationWarning: find_element_by_* commands are deprecated. Please use find_element() instead\n",
      "  tempDate = driver.find_element_by_xpath(dateURL).text.split(\": \")[1]\n"
     ]
    },
    {
     "name": "stdout",
     "output_type": "stream",
     "text": [
      "//*[@id=\"__next\"]/div/div/main/div/div[3]/section/div[11]/article/div/section/div[2]/p[2]\n",
      "//*[@id=\"__next\"]/div/div/main/div/div[3]/section/div[12]/article/div/section/div[2]/p[2]\n",
      "//*[@id=\"__next\"]/div/div/main/div/div[3]/section/div[13]/article/div/section/div[2]/p[2]\n"
     ]
    },
    {
     "name": "stderr",
     "output_type": "stream",
     "text": [
      "C:\\Users\\Amir\\AppData\\Local\\Temp/ipykernel_3396/626879404.py:14: DeprecationWarning: find_element_by_* commands are deprecated. Please use find_element() instead\n",
      "  tempRate = driver.find_element_by_xpath(starURL)\n",
      "C:\\Users\\Amir\\AppData\\Local\\Temp/ipykernel_3396/626879404.py:22: DeprecationWarning: find_element_by_* commands are deprecated. Please use find_element() instead\n",
      "  tempComment = driver.find_element_by_xpath(commentURL).text\n",
      "C:\\Users\\Amir\\AppData\\Local\\Temp/ipykernel_3396/626879404.py:28: DeprecationWarning: find_element_by_* commands are deprecated. Please use find_element() instead\n",
      "  tempDate = driver.find_element_by_xpath(dateURL).text.split(\": \")[1]\n",
      "C:\\Users\\Amir\\AppData\\Local\\Temp/ipykernel_3396/626879404.py:14: DeprecationWarning: find_element_by_* commands are deprecated. Please use find_element() instead\n",
      "  tempRate = driver.find_element_by_xpath(starURL)\n",
      "C:\\Users\\Amir\\AppData\\Local\\Temp/ipykernel_3396/626879404.py:22: DeprecationWarning: find_element_by_* commands are deprecated. Please use find_element() instead\n",
      "  tempComment = driver.find_element_by_xpath(commentURL).text\n",
      "C:\\Users\\Amir\\AppData\\Local\\Temp/ipykernel_3396/626879404.py:28: DeprecationWarning: find_element_by_* commands are deprecated. Please use find_element() instead\n",
      "  tempDate = driver.find_element_by_xpath(dateURL).text.split(\": \")[1]\n"
     ]
    },
    {
     "name": "stdout",
     "output_type": "stream",
     "text": [
      "//*[@id=\"__next\"]/div/div/main/div/div[3]/section/div[14]/article/div/section/div[2]/p[2]\n"
     ]
    },
    {
     "name": "stderr",
     "output_type": "stream",
     "text": [
      "C:\\Users\\Amir\\AppData\\Local\\Temp/ipykernel_3396/626879404.py:14: DeprecationWarning: find_element_by_* commands are deprecated. Please use find_element() instead\n",
      "  tempRate = driver.find_element_by_xpath(starURL)\n",
      "C:\\Users\\Amir\\AppData\\Local\\Temp/ipykernel_3396/626879404.py:22: DeprecationWarning: find_element_by_* commands are deprecated. Please use find_element() instead\n",
      "  tempComment = driver.find_element_by_xpath(commentURL).text\n"
     ]
    },
    {
     "name": "stdout",
     "output_type": "stream",
     "text": [
      "//*[@id=\"__next\"]/div/div/main/div/div[3]/section/div[16]/article/div/section/div[2]/p[2]\n",
      "//*[@id=\"__next\"]/div/div/main/div/div[3]/section/div[17]/article/div/section/div[2]/p[2]\n"
     ]
    },
    {
     "name": "stderr",
     "output_type": "stream",
     "text": [
      "C:\\Users\\Amir\\AppData\\Local\\Temp/ipykernel_3396/626879404.py:28: DeprecationWarning: find_element_by_* commands are deprecated. Please use find_element() instead\n",
      "  tempDate = driver.find_element_by_xpath(dateURL).text.split(\": \")[1]\n",
      "C:\\Users\\Amir\\AppData\\Local\\Temp/ipykernel_3396/626879404.py:14: DeprecationWarning: find_element_by_* commands are deprecated. Please use find_element() instead\n",
      "  tempRate = driver.find_element_by_xpath(starURL)\n",
      "C:\\Users\\Amir\\AppData\\Local\\Temp/ipykernel_3396/626879404.py:22: DeprecationWarning: find_element_by_* commands are deprecated. Please use find_element() instead\n",
      "  tempComment = driver.find_element_by_xpath(commentURL).text\n",
      "C:\\Users\\Amir\\AppData\\Local\\Temp/ipykernel_3396/626879404.py:28: DeprecationWarning: find_element_by_* commands are deprecated. Please use find_element() instead\n",
      "  tempDate = driver.find_element_by_xpath(dateURL).text.split(\": \")[1]\n",
      "C:\\Users\\Amir\\AppData\\Local\\Temp/ipykernel_3396/626879404.py:14: DeprecationWarning: find_element_by_* commands are deprecated. Please use find_element() instead\n",
      "  tempRate = driver.find_element_by_xpath(starURL)\n",
      "C:\\Users\\Amir\\AppData\\Local\\Temp/ipykernel_3396/626879404.py:22: DeprecationWarning: find_element_by_* commands are deprecated. Please use find_element() instead\n",
      "  tempComment = driver.find_element_by_xpath(commentURL).text\n"
     ]
    },
    {
     "name": "stdout",
     "output_type": "stream",
     "text": [
      "//*[@id=\"__next\"]/div/div/main/div/div[3]/section/div[18]/article/div/section/div[2]/p[2]\n",
      "//*[@id=\"__next\"]/div/div/main/div/div[3]/section/div[19]/article/div/section/div[2]/p[2]\n"
     ]
    },
    {
     "name": "stderr",
     "output_type": "stream",
     "text": [
      "C:\\Users\\Amir\\AppData\\Local\\Temp/ipykernel_3396/626879404.py:28: DeprecationWarning: find_element_by_* commands are deprecated. Please use find_element() instead\n",
      "  tempDate = driver.find_element_by_xpath(dateURL).text.split(\": \")[1]\n",
      "C:\\Users\\Amir\\AppData\\Local\\Temp/ipykernel_3396/626879404.py:14: DeprecationWarning: find_element_by_* commands are deprecated. Please use find_element() instead\n",
      "  tempRate = driver.find_element_by_xpath(starURL)\n",
      "C:\\Users\\Amir\\AppData\\Local\\Temp/ipykernel_3396/626879404.py:22: DeprecationWarning: find_element_by_* commands are deprecated. Please use find_element() instead\n",
      "  tempComment = driver.find_element_by_xpath(commentURL).text\n",
      "C:\\Users\\Amir\\AppData\\Local\\Temp/ipykernel_3396/626879404.py:28: DeprecationWarning: find_element_by_* commands are deprecated. Please use find_element() instead\n",
      "  tempDate = driver.find_element_by_xpath(dateURL).text.split(\": \")[1]\n",
      "C:\\Users\\Amir\\AppData\\Local\\Temp/ipykernel_3396/626879404.py:14: DeprecationWarning: find_element_by_* commands are deprecated. Please use find_element() instead\n",
      "  tempRate = driver.find_element_by_xpath(starURL)\n",
      "C:\\Users\\Amir\\AppData\\Local\\Temp/ipykernel_3396/626879404.py:22: DeprecationWarning: find_element_by_* commands are deprecated. Please use find_element() instead\n",
      "  tempComment = driver.find_element_by_xpath(commentURL).text\n"
     ]
    },
    {
     "name": "stdout",
     "output_type": "stream",
     "text": [
      "//*[@id=\"__next\"]/div/div/main/div/div[3]/section/div[20]/article/div/section/div[2]/p[2]\n",
      "//*[@id=\"__next\"]/div/div/main/div/div[3]/section/div[21]/article/div/section/div[2]/p[2]\n",
      "//*[@id=\"__next\"]/div/div/main/div/div[3]/section/div[22]/article/div/section/div[2]/p[2]\n"
     ]
    },
    {
     "name": "stderr",
     "output_type": "stream",
     "text": [
      "C:\\Users\\Amir\\AppData\\Local\\Temp/ipykernel_3396/626879404.py:28: DeprecationWarning: find_element_by_* commands are deprecated. Please use find_element() instead\n",
      "  tempDate = driver.find_element_by_xpath(dateURL).text.split(\": \")[1]\n",
      "C:\\Users\\Amir\\AppData\\Local\\Temp/ipykernel_3396/626879404.py:14: DeprecationWarning: find_element_by_* commands are deprecated. Please use find_element() instead\n",
      "  tempRate = driver.find_element_by_xpath(starURL)\n",
      "C:\\Users\\Amir\\AppData\\Local\\Temp/ipykernel_3396/626879404.py:22: DeprecationWarning: find_element_by_* commands are deprecated. Please use find_element() instead\n",
      "  tempComment = driver.find_element_by_xpath(commentURL).text\n",
      "C:\\Users\\Amir\\AppData\\Local\\Temp/ipykernel_3396/626879404.py:28: DeprecationWarning: find_element_by_* commands are deprecated. Please use find_element() instead\n",
      "  tempDate = driver.find_element_by_xpath(dateURL).text.split(\": \")[1]\n",
      "C:\\Users\\Amir\\AppData\\Local\\Temp/ipykernel_3396/626879404.py:14: DeprecationWarning: find_element_by_* commands are deprecated. Please use find_element() instead\n",
      "  tempRate = driver.find_element_by_xpath(starURL)\n",
      "C:\\Users\\Amir\\AppData\\Local\\Temp/ipykernel_3396/626879404.py:22: DeprecationWarning: find_element_by_* commands are deprecated. Please use find_element() instead\n",
      "  tempComment = driver.find_element_by_xpath(commentURL).text\n",
      "C:\\Users\\Amir\\AppData\\Local\\Temp/ipykernel_3396/626879404.py:28: DeprecationWarning: find_element_by_* commands are deprecated. Please use find_element() instead\n",
      "  tempDate = driver.find_element_by_xpath(dateURL).text.split(\": \")[1]\n",
      "C:\\Users\\Amir\\AppData\\Local\\Temp/ipykernel_3396/626879404.py:14: DeprecationWarning: find_element_by_* commands are deprecated. Please use find_element() instead\n",
      "  tempRate = driver.find_element_by_xpath(starURL)\n",
      "C:\\Users\\Amir\\AppData\\Local\\Temp/ipykernel_3396/626879404.py:22: DeprecationWarning: find_element_by_* commands are deprecated. Please use find_element() instead\n",
      "  tempComment = driver.find_element_by_xpath(commentURL).text\n",
      "C:\\Users\\Amir\\AppData\\Local\\Temp/ipykernel_3396/626879404.py:28: DeprecationWarning: find_element_by_* commands are deprecated. Please use find_element() instead\n",
      "  tempDate = driver.find_element_by_xpath(dateURL).text.split(\": \")[1]\n",
      "C:\\Users\\Amir\\AppData\\Local\\Temp/ipykernel_3396/626879404.py:14: DeprecationWarning: find_element_by_* commands are deprecated. Please use find_element() instead\n",
      "  tempRate = driver.find_element_by_xpath(starURL)\n",
      "C:\\Users\\Amir\\AppData\\Local\\Temp/ipykernel_3396/626879404.py:22: DeprecationWarning: find_element_by_* commands are deprecated. Please use find_element() instead\n",
      "  tempComment = driver.find_element_by_xpath(commentURL).text\n",
      "C:\\Users\\Amir\\AppData\\Local\\Temp/ipykernel_3396/626879404.py:28: DeprecationWarning: find_element_by_* commands are deprecated. Please use find_element() instead\n",
      "  tempDate = driver.find_element_by_xpath(dateURL).text.split(\": \")[1]\n"
     ]
    },
    {
     "name": "stdout",
     "output_type": "stream",
     "text": [
      "//*[@id=\"__next\"]/div/div/main/div/div[3]/section/div[23]/article/div/section/div[2]/p[2]\n",
      "//*[@id=\"__next\"]/div/div/main/div/div[3]/section/div[24]/article/div/section/div[2]/p[2]\n",
      "//*[@id=\"__next\"]/div/div/main/div/div[3]/section/div[25]/article/div/section/div[2]/p[2]\n"
     ]
    },
    {
     "name": "stderr",
     "output_type": "stream",
     "text": [
      "C:\\Users\\Amir\\AppData\\Local\\Temp/ipykernel_3396/626879404.py:14: DeprecationWarning: find_element_by_* commands are deprecated. Please use find_element() instead\n",
      "  tempRate = driver.find_element_by_xpath(starURL)\n",
      "C:\\Users\\Amir\\AppData\\Local\\Temp/ipykernel_3396/626879404.py:22: DeprecationWarning: find_element_by_* commands are deprecated. Please use find_element() instead\n",
      "  tempComment = driver.find_element_by_xpath(commentURL).text\n",
      "C:\\Users\\Amir\\AppData\\Local\\Temp/ipykernel_3396/626879404.py:28: DeprecationWarning: find_element_by_* commands are deprecated. Please use find_element() instead\n",
      "  tempDate = driver.find_element_by_xpath(dateURL).text.split(\": \")[1]\n",
      "C:\\Users\\Amir\\AppData\\Local\\Temp/ipykernel_3396/626879404.py:14: DeprecationWarning: find_element_by_* commands are deprecated. Please use find_element() instead\n",
      "  tempRate = driver.find_element_by_xpath(starURL)\n",
      "C:\\Users\\Amir\\AppData\\Local\\Temp/ipykernel_3396/626879404.py:22: DeprecationWarning: find_element_by_* commands are deprecated. Please use find_element() instead\n",
      "  tempComment = driver.find_element_by_xpath(commentURL).text\n",
      "C:\\Users\\Amir\\AppData\\Local\\Temp/ipykernel_3396/626879404.py:28: DeprecationWarning: find_element_by_* commands are deprecated. Please use find_element() instead\n",
      "  tempDate = driver.find_element_by_xpath(dateURL).text.split(\": \")[1]\n",
      "C:\\Users\\Amir\\AppData\\Local\\Temp/ipykernel_3396/626879404.py:14: DeprecationWarning: find_element_by_* commands are deprecated. Please use find_element() instead\n",
      "  tempRate = driver.find_element_by_xpath(starURL)\n",
      "C:\\Users\\Amir\\AppData\\Local\\Temp/ipykernel_3396/626879404.py:22: DeprecationWarning: find_element_by_* commands are deprecated. Please use find_element() instead\n",
      "  tempComment = driver.find_element_by_xpath(commentURL).text\n",
      "C:\\Users\\Amir\\AppData\\Local\\Temp/ipykernel_3396/626879404.py:28: DeprecationWarning: find_element_by_* commands are deprecated. Please use find_element() instead\n",
      "  tempDate = driver.find_element_by_xpath(dateURL).text.split(\": \")[1]\n"
     ]
    },
    {
     "name": "stdout",
     "output_type": "stream",
     "text": [
      "//*[@id=\"__next\"]/div/div/main/div/div[3]/section/div[4]/article/div/section/div[2]/p[2]\n",
      "//*[@id=\"__next\"]/div/div/main/div/div[3]/section/div[6]/article/div/section/div[2]/p[2]\n"
     ]
    },
    {
     "name": "stderr",
     "output_type": "stream",
     "text": [
      "C:\\Users\\Amir\\AppData\\Local\\Temp/ipykernel_3396/626879404.py:14: DeprecationWarning: find_element_by_* commands are deprecated. Please use find_element() instead\n",
      "  tempRate = driver.find_element_by_xpath(starURL)\n",
      "C:\\Users\\Amir\\AppData\\Local\\Temp/ipykernel_3396/626879404.py:22: DeprecationWarning: find_element_by_* commands are deprecated. Please use find_element() instead\n",
      "  tempComment = driver.find_element_by_xpath(commentURL).text\n",
      "C:\\Users\\Amir\\AppData\\Local\\Temp/ipykernel_3396/626879404.py:28: DeprecationWarning: find_element_by_* commands are deprecated. Please use find_element() instead\n",
      "  tempDate = driver.find_element_by_xpath(dateURL).text.split(\": \")[1]\n",
      "C:\\Users\\Amir\\AppData\\Local\\Temp/ipykernel_3396/626879404.py:14: DeprecationWarning: find_element_by_* commands are deprecated. Please use find_element() instead\n",
      "  tempRate = driver.find_element_by_xpath(starURL)\n",
      "C:\\Users\\Amir\\AppData\\Local\\Temp/ipykernel_3396/626879404.py:22: DeprecationWarning: find_element_by_* commands are deprecated. Please use find_element() instead\n",
      "  tempComment = driver.find_element_by_xpath(commentURL).text\n"
     ]
    },
    {
     "name": "stdout",
     "output_type": "stream",
     "text": [
      "//*[@id=\"__next\"]/div/div/main/div/div[3]/section/div[7]/article/div/section/div[2]/p[2]\n",
      "//*[@id=\"__next\"]/div/div/main/div/div[3]/section/div[8]/article/div/section/div[2]/p[2]\n"
     ]
    },
    {
     "name": "stderr",
     "output_type": "stream",
     "text": [
      "C:\\Users\\Amir\\AppData\\Local\\Temp/ipykernel_3396/626879404.py:28: DeprecationWarning: find_element_by_* commands are deprecated. Please use find_element() instead\n",
      "  tempDate = driver.find_element_by_xpath(dateURL).text.split(\": \")[1]\n",
      "C:\\Users\\Amir\\AppData\\Local\\Temp/ipykernel_3396/626879404.py:14: DeprecationWarning: find_element_by_* commands are deprecated. Please use find_element() instead\n",
      "  tempRate = driver.find_element_by_xpath(starURL)\n",
      "C:\\Users\\Amir\\AppData\\Local\\Temp/ipykernel_3396/626879404.py:22: DeprecationWarning: find_element_by_* commands are deprecated. Please use find_element() instead\n",
      "  tempComment = driver.find_element_by_xpath(commentURL).text\n",
      "C:\\Users\\Amir\\AppData\\Local\\Temp/ipykernel_3396/626879404.py:28: DeprecationWarning: find_element_by_* commands are deprecated. Please use find_element() instead\n",
      "  tempDate = driver.find_element_by_xpath(dateURL).text.split(\": \")[1]\n",
      "C:\\Users\\Amir\\AppData\\Local\\Temp/ipykernel_3396/626879404.py:14: DeprecationWarning: find_element_by_* commands are deprecated. Please use find_element() instead\n",
      "  tempRate = driver.find_element_by_xpath(starURL)\n"
     ]
    },
    {
     "name": "stdout",
     "output_type": "stream",
     "text": [
      "//*[@id=\"__next\"]/div/div/main/div/div[3]/section/div[9]/article/div/section/div[2]/p[2]\n",
      "//*[@id=\"__next\"]/div/div/main/div/div[3]/section/div[10]/article/div/section/div[2]/p[2]\n"
     ]
    },
    {
     "name": "stderr",
     "output_type": "stream",
     "text": [
      "C:\\Users\\Amir\\AppData\\Local\\Temp/ipykernel_3396/626879404.py:22: DeprecationWarning: find_element_by_* commands are deprecated. Please use find_element() instead\n",
      "  tempComment = driver.find_element_by_xpath(commentURL).text\n",
      "C:\\Users\\Amir\\AppData\\Local\\Temp/ipykernel_3396/626879404.py:28: DeprecationWarning: find_element_by_* commands are deprecated. Please use find_element() instead\n",
      "  tempDate = driver.find_element_by_xpath(dateURL).text.split(\": \")[1]\n",
      "C:\\Users\\Amir\\AppData\\Local\\Temp/ipykernel_3396/626879404.py:14: DeprecationWarning: find_element_by_* commands are deprecated. Please use find_element() instead\n",
      "  tempRate = driver.find_element_by_xpath(starURL)\n",
      "C:\\Users\\Amir\\AppData\\Local\\Temp/ipykernel_3396/626879404.py:22: DeprecationWarning: find_element_by_* commands are deprecated. Please use find_element() instead\n",
      "  tempComment = driver.find_element_by_xpath(commentURL).text\n",
      "C:\\Users\\Amir\\AppData\\Local\\Temp/ipykernel_3396/626879404.py:28: DeprecationWarning: find_element_by_* commands are deprecated. Please use find_element() instead\n",
      "  tempDate = driver.find_element_by_xpath(dateURL).text.split(\": \")[1]\n",
      "C:\\Users\\Amir\\AppData\\Local\\Temp/ipykernel_3396/626879404.py:14: DeprecationWarning: find_element_by_* commands are deprecated. Please use find_element() instead\n",
      "  tempRate = driver.find_element_by_xpath(starURL)\n",
      "C:\\Users\\Amir\\AppData\\Local\\Temp/ipykernel_3396/626879404.py:22: DeprecationWarning: find_element_by_* commands are deprecated. Please use find_element() instead\n",
      "  tempComment = driver.find_element_by_xpath(commentURL).text\n"
     ]
    },
    {
     "name": "stdout",
     "output_type": "stream",
     "text": [
      "//*[@id=\"__next\"]/div/div/main/div/div[3]/section/div[11]/article/div/section/div[2]/p[2]\n",
      "//*[@id=\"__next\"]/div/div/main/div/div[3]/section/div[12]/article/div/section/div[2]/p[2]\n"
     ]
    },
    {
     "name": "stderr",
     "output_type": "stream",
     "text": [
      "C:\\Users\\Amir\\AppData\\Local\\Temp/ipykernel_3396/626879404.py:28: DeprecationWarning: find_element_by_* commands are deprecated. Please use find_element() instead\n",
      "  tempDate = driver.find_element_by_xpath(dateURL).text.split(\": \")[1]\n",
      "C:\\Users\\Amir\\AppData\\Local\\Temp/ipykernel_3396/626879404.py:14: DeprecationWarning: find_element_by_* commands are deprecated. Please use find_element() instead\n",
      "  tempRate = driver.find_element_by_xpath(starURL)\n",
      "C:\\Users\\Amir\\AppData\\Local\\Temp/ipykernel_3396/626879404.py:22: DeprecationWarning: find_element_by_* commands are deprecated. Please use find_element() instead\n",
      "  tempComment = driver.find_element_by_xpath(commentURL).text\n",
      "C:\\Users\\Amir\\AppData\\Local\\Temp/ipykernel_3396/626879404.py:28: DeprecationWarning: find_element_by_* commands are deprecated. Please use find_element() instead\n",
      "  tempDate = driver.find_element_by_xpath(dateURL).text.split(\": \")[1]\n"
     ]
    },
    {
     "name": "stdout",
     "output_type": "stream",
     "text": [
      "//*[@id=\"__next\"]/div/div/main/div/div[3]/section/div[13]/article/div/section/div[2]/p[2]\n",
      "//*[@id=\"__next\"]/div/div/main/div/div[3]/section/div[14]/article/div/section/div[2]/p[2]\n"
     ]
    },
    {
     "name": "stderr",
     "output_type": "stream",
     "text": [
      "C:\\Users\\Amir\\AppData\\Local\\Temp/ipykernel_3396/626879404.py:14: DeprecationWarning: find_element_by_* commands are deprecated. Please use find_element() instead\n",
      "  tempRate = driver.find_element_by_xpath(starURL)\n",
      "C:\\Users\\Amir\\AppData\\Local\\Temp/ipykernel_3396/626879404.py:22: DeprecationWarning: find_element_by_* commands are deprecated. Please use find_element() instead\n",
      "  tempComment = driver.find_element_by_xpath(commentURL).text\n",
      "C:\\Users\\Amir\\AppData\\Local\\Temp/ipykernel_3396/626879404.py:28: DeprecationWarning: find_element_by_* commands are deprecated. Please use find_element() instead\n",
      "  tempDate = driver.find_element_by_xpath(dateURL).text.split(\": \")[1]\n",
      "C:\\Users\\Amir\\AppData\\Local\\Temp/ipykernel_3396/626879404.py:14: DeprecationWarning: find_element_by_* commands are deprecated. Please use find_element() instead\n",
      "  tempRate = driver.find_element_by_xpath(starURL)\n",
      "C:\\Users\\Amir\\AppData\\Local\\Temp/ipykernel_3396/626879404.py:22: DeprecationWarning: find_element_by_* commands are deprecated. Please use find_element() instead\n",
      "  tempComment = driver.find_element_by_xpath(commentURL).text\n"
     ]
    },
    {
     "name": "stdout",
     "output_type": "stream",
     "text": [
      "//*[@id=\"__next\"]/div/div/main/div/div[3]/section/div[16]/article/div/section/div[2]/p[2]\n",
      "//*[@id=\"__next\"]/div/div/main/div/div[3]/section/div[17]/article/div/section/div[2]/p[2]\n"
     ]
    },
    {
     "name": "stderr",
     "output_type": "stream",
     "text": [
      "C:\\Users\\Amir\\AppData\\Local\\Temp/ipykernel_3396/626879404.py:28: DeprecationWarning: find_element_by_* commands are deprecated. Please use find_element() instead\n",
      "  tempDate = driver.find_element_by_xpath(dateURL).text.split(\": \")[1]\n",
      "C:\\Users\\Amir\\AppData\\Local\\Temp/ipykernel_3396/626879404.py:14: DeprecationWarning: find_element_by_* commands are deprecated. Please use find_element() instead\n",
      "  tempRate = driver.find_element_by_xpath(starURL)\n",
      "C:\\Users\\Amir\\AppData\\Local\\Temp/ipykernel_3396/626879404.py:22: DeprecationWarning: find_element_by_* commands are deprecated. Please use find_element() instead\n",
      "  tempComment = driver.find_element_by_xpath(commentURL).text\n",
      "C:\\Users\\Amir\\AppData\\Local\\Temp/ipykernel_3396/626879404.py:28: DeprecationWarning: find_element_by_* commands are deprecated. Please use find_element() instead\n",
      "  tempDate = driver.find_element_by_xpath(dateURL).text.split(\": \")[1]\n",
      "C:\\Users\\Amir\\AppData\\Local\\Temp/ipykernel_3396/626879404.py:14: DeprecationWarning: find_element_by_* commands are deprecated. Please use find_element() instead\n",
      "  tempRate = driver.find_element_by_xpath(starURL)\n",
      "C:\\Users\\Amir\\AppData\\Local\\Temp/ipykernel_3396/626879404.py:22: DeprecationWarning: find_element_by_* commands are deprecated. Please use find_element() instead\n",
      "  tempComment = driver.find_element_by_xpath(commentURL).text\n"
     ]
    },
    {
     "name": "stdout",
     "output_type": "stream",
     "text": [
      "//*[@id=\"__next\"]/div/div/main/div/div[3]/section/div[18]/article/div/section/div[2]/p[2]\n",
      "//*[@id=\"__next\"]/div/div/main/div/div[3]/section/div[19]/article/div/section/div[2]/p[2]\n",
      "//*[@id=\"__next\"]/div/div/main/div/div[3]/section/div[20]/article/div/section/div[2]/p[2]\n"
     ]
    },
    {
     "name": "stderr",
     "output_type": "stream",
     "text": [
      "C:\\Users\\Amir\\AppData\\Local\\Temp/ipykernel_3396/626879404.py:28: DeprecationWarning: find_element_by_* commands are deprecated. Please use find_element() instead\n",
      "  tempDate = driver.find_element_by_xpath(dateURL).text.split(\": \")[1]\n",
      "C:\\Users\\Amir\\AppData\\Local\\Temp/ipykernel_3396/626879404.py:14: DeprecationWarning: find_element_by_* commands are deprecated. Please use find_element() instead\n",
      "  tempRate = driver.find_element_by_xpath(starURL)\n",
      "C:\\Users\\Amir\\AppData\\Local\\Temp/ipykernel_3396/626879404.py:22: DeprecationWarning: find_element_by_* commands are deprecated. Please use find_element() instead\n",
      "  tempComment = driver.find_element_by_xpath(commentURL).text\n",
      "C:\\Users\\Amir\\AppData\\Local\\Temp/ipykernel_3396/626879404.py:28: DeprecationWarning: find_element_by_* commands are deprecated. Please use find_element() instead\n",
      "  tempDate = driver.find_element_by_xpath(dateURL).text.split(\": \")[1]\n",
      "C:\\Users\\Amir\\AppData\\Local\\Temp/ipykernel_3396/626879404.py:14: DeprecationWarning: find_element_by_* commands are deprecated. Please use find_element() instead\n",
      "  tempRate = driver.find_element_by_xpath(starURL)\n",
      "C:\\Users\\Amir\\AppData\\Local\\Temp/ipykernel_3396/626879404.py:22: DeprecationWarning: find_element_by_* commands are deprecated. Please use find_element() instead\n",
      "  tempComment = driver.find_element_by_xpath(commentURL).text\n",
      "C:\\Users\\Amir\\AppData\\Local\\Temp/ipykernel_3396/626879404.py:28: DeprecationWarning: find_element_by_* commands are deprecated. Please use find_element() instead\n",
      "  tempDate = driver.find_element_by_xpath(dateURL).text.split(\": \")[1]\n",
      "C:\\Users\\Amir\\AppData\\Local\\Temp/ipykernel_3396/626879404.py:14: DeprecationWarning: find_element_by_* commands are deprecated. Please use find_element() instead\n",
      "  tempRate = driver.find_element_by_xpath(starURL)\n",
      "C:\\Users\\Amir\\AppData\\Local\\Temp/ipykernel_3396/626879404.py:22: DeprecationWarning: find_element_by_* commands are deprecated. Please use find_element() instead\n",
      "  tempComment = driver.find_element_by_xpath(commentURL).text\n",
      "C:\\Users\\Amir\\AppData\\Local\\Temp/ipykernel_3396/626879404.py:28: DeprecationWarning: find_element_by_* commands are deprecated. Please use find_element() instead\n",
      "  tempDate = driver.find_element_by_xpath(dateURL).text.split(\": \")[1]\n",
      "C:\\Users\\Amir\\AppData\\Local\\Temp/ipykernel_3396/626879404.py:14: DeprecationWarning: find_element_by_* commands are deprecated. Please use find_element() instead\n",
      "  tempRate = driver.find_element_by_xpath(starURL)\n",
      "C:\\Users\\Amir\\AppData\\Local\\Temp/ipykernel_3396/626879404.py:22: DeprecationWarning: find_element_by_* commands are deprecated. Please use find_element() instead\n",
      "  tempComment = driver.find_element_by_xpath(commentURL).text\n",
      "C:\\Users\\Amir\\AppData\\Local\\Temp/ipykernel_3396/626879404.py:28: DeprecationWarning: find_element_by_* commands are deprecated. Please use find_element() instead\n",
      "  tempDate = driver.find_element_by_xpath(dateURL).text.split(\": \")[1]\n",
      "C:\\Users\\Amir\\AppData\\Local\\Temp/ipykernel_3396/626879404.py:14: DeprecationWarning: find_element_by_* commands are deprecated. Please use find_element() instead\n",
      "  tempRate = driver.find_element_by_xpath(starURL)\n"
     ]
    },
    {
     "name": "stdout",
     "output_type": "stream",
     "text": [
      "//*[@id=\"__next\"]/div/div/main/div/div[3]/section/div[21]/article/div/section/div[2]/p[2]\n",
      "//*[@id=\"__next\"]/div/div/main/div/div[3]/section/div[22]/article/div/section/div[2]/p[2]\n"
     ]
    },
    {
     "name": "stderr",
     "output_type": "stream",
     "text": [
      "C:\\Users\\Amir\\AppData\\Local\\Temp/ipykernel_3396/626879404.py:22: DeprecationWarning: find_element_by_* commands are deprecated. Please use find_element() instead\n",
      "  tempComment = driver.find_element_by_xpath(commentURL).text\n",
      "C:\\Users\\Amir\\AppData\\Local\\Temp/ipykernel_3396/626879404.py:28: DeprecationWarning: find_element_by_* commands are deprecated. Please use find_element() instead\n",
      "  tempDate = driver.find_element_by_xpath(dateURL).text.split(\": \")[1]\n",
      "C:\\Users\\Amir\\AppData\\Local\\Temp/ipykernel_3396/626879404.py:14: DeprecationWarning: find_element_by_* commands are deprecated. Please use find_element() instead\n",
      "  tempRate = driver.find_element_by_xpath(starURL)\n",
      "C:\\Users\\Amir\\AppData\\Local\\Temp/ipykernel_3396/626879404.py:22: DeprecationWarning: find_element_by_* commands are deprecated. Please use find_element() instead\n",
      "  tempComment = driver.find_element_by_xpath(commentURL).text\n",
      "C:\\Users\\Amir\\AppData\\Local\\Temp/ipykernel_3396/626879404.py:28: DeprecationWarning: find_element_by_* commands are deprecated. Please use find_element() instead\n",
      "  tempDate = driver.find_element_by_xpath(dateURL).text.split(\": \")[1]\n",
      "C:\\Users\\Amir\\AppData\\Local\\Temp/ipykernel_3396/626879404.py:14: DeprecationWarning: find_element_by_* commands are deprecated. Please use find_element() instead\n",
      "  tempRate = driver.find_element_by_xpath(starURL)\n",
      "C:\\Users\\Amir\\AppData\\Local\\Temp/ipykernel_3396/626879404.py:22: DeprecationWarning: find_element_by_* commands are deprecated. Please use find_element() instead\n",
      "  tempComment = driver.find_element_by_xpath(commentURL).text\n"
     ]
    },
    {
     "name": "stdout",
     "output_type": "stream",
     "text": [
      "//*[@id=\"__next\"]/div/div/main/div/div[3]/section/div[23]/article/div/section/div[2]/p[2]\n",
      "//*[@id=\"__next\"]/div/div/main/div/div[3]/section/div[24]/article/div/section/div[2]/p[2]\n",
      "//*[@id=\"__next\"]/div/div/main/div/div[3]/section/div[25]/article/div/section/div[2]/p[2]\n",
      "//*[@id=\"__next\"]/div/div/main/div/div[3]/section/div[25]/article/div/section/div[2]/p\n"
     ]
    },
    {
     "name": "stderr",
     "output_type": "stream",
     "text": [
      "C:\\Users\\Amir\\AppData\\Local\\Temp/ipykernel_3396/626879404.py:28: DeprecationWarning: find_element_by_* commands are deprecated. Please use find_element() instead\n",
      "  tempDate = driver.find_element_by_xpath(dateURL).text.split(\": \")[1]\n",
      "C:\\Users\\Amir\\AppData\\Local\\Temp/ipykernel_3396/626879404.py:32: DeprecationWarning: find_element_by_* commands are deprecated. Please use find_element() instead\n",
      "  tempDate = driver.find_element_by_xpath(dateURL).text.split(\": \")[1]\n",
      "C:\\Users\\Amir\\AppData\\Local\\Temp/ipykernel_3396/626879404.py:14: DeprecationWarning: find_element_by_* commands are deprecated. Please use find_element() instead\n",
      "  tempRate = driver.find_element_by_xpath(starURL)\n",
      "C:\\Users\\Amir\\AppData\\Local\\Temp/ipykernel_3396/626879404.py:22: DeprecationWarning: find_element_by_* commands are deprecated. Please use find_element() instead\n",
      "  tempComment = driver.find_element_by_xpath(commentURL).text\n",
      "C:\\Users\\Amir\\AppData\\Local\\Temp/ipykernel_3396/626879404.py:28: DeprecationWarning: find_element_by_* commands are deprecated. Please use find_element() instead\n",
      "  tempDate = driver.find_element_by_xpath(dateURL).text.split(\": \")[1]\n",
      "C:\\Users\\Amir\\AppData\\Local\\Temp/ipykernel_3396/626879404.py:14: DeprecationWarning: find_element_by_* commands are deprecated. Please use find_element() instead\n",
      "  tempRate = driver.find_element_by_xpath(starURL)\n"
     ]
    },
    {
     "name": "stdout",
     "output_type": "stream",
     "text": [
      "//*[@id=\"__next\"]/div/div/main/div/div[3]/section/div[4]/article/div/section/div[2]/p[2]\n",
      "//*[@id=\"__next\"]/div/div/main/div/div[3]/section/div[6]/article/div/section/div[2]/p[2]\n"
     ]
    },
    {
     "name": "stderr",
     "output_type": "stream",
     "text": [
      "C:\\Users\\Amir\\AppData\\Local\\Temp/ipykernel_3396/626879404.py:22: DeprecationWarning: find_element_by_* commands are deprecated. Please use find_element() instead\n",
      "  tempComment = driver.find_element_by_xpath(commentURL).text\n",
      "C:\\Users\\Amir\\AppData\\Local\\Temp/ipykernel_3396/626879404.py:28: DeprecationWarning: find_element_by_* commands are deprecated. Please use find_element() instead\n",
      "  tempDate = driver.find_element_by_xpath(dateURL).text.split(\": \")[1]\n",
      "C:\\Users\\Amir\\AppData\\Local\\Temp/ipykernel_3396/626879404.py:14: DeprecationWarning: find_element_by_* commands are deprecated. Please use find_element() instead\n",
      "  tempRate = driver.find_element_by_xpath(starURL)\n",
      "C:\\Users\\Amir\\AppData\\Local\\Temp/ipykernel_3396/626879404.py:22: DeprecationWarning: find_element_by_* commands are deprecated. Please use find_element() instead\n",
      "  tempComment = driver.find_element_by_xpath(commentURL).text\n",
      "C:\\Users\\Amir\\AppData\\Local\\Temp/ipykernel_3396/626879404.py:28: DeprecationWarning: find_element_by_* commands are deprecated. Please use find_element() instead\n",
      "  tempDate = driver.find_element_by_xpath(dateURL).text.split(\": \")[1]\n",
      "C:\\Users\\Amir\\AppData\\Local\\Temp/ipykernel_3396/626879404.py:14: DeprecationWarning: find_element_by_* commands are deprecated. Please use find_element() instead\n",
      "  tempRate = driver.find_element_by_xpath(starURL)\n"
     ]
    },
    {
     "name": "stdout",
     "output_type": "stream",
     "text": [
      "//*[@id=\"__next\"]/div/div/main/div/div[3]/section/div[7]/article/div/section/div[2]/p[2]\n",
      "//*[@id=\"__next\"]/div/div/main/div/div[3]/section/div[8]/article/div/section/div[2]/p[2]\n"
     ]
    },
    {
     "name": "stderr",
     "output_type": "stream",
     "text": [
      "C:\\Users\\Amir\\AppData\\Local\\Temp/ipykernel_3396/626879404.py:22: DeprecationWarning: find_element_by_* commands are deprecated. Please use find_element() instead\n",
      "  tempComment = driver.find_element_by_xpath(commentURL).text\n",
      "C:\\Users\\Amir\\AppData\\Local\\Temp/ipykernel_3396/626879404.py:28: DeprecationWarning: find_element_by_* commands are deprecated. Please use find_element() instead\n",
      "  tempDate = driver.find_element_by_xpath(dateURL).text.split(\": \")[1]\n",
      "C:\\Users\\Amir\\AppData\\Local\\Temp/ipykernel_3396/626879404.py:14: DeprecationWarning: find_element_by_* commands are deprecated. Please use find_element() instead\n",
      "  tempRate = driver.find_element_by_xpath(starURL)\n",
      "C:\\Users\\Amir\\AppData\\Local\\Temp/ipykernel_3396/626879404.py:22: DeprecationWarning: find_element_by_* commands are deprecated. Please use find_element() instead\n",
      "  tempComment = driver.find_element_by_xpath(commentURL).text\n",
      "C:\\Users\\Amir\\AppData\\Local\\Temp/ipykernel_3396/626879404.py:28: DeprecationWarning: find_element_by_* commands are deprecated. Please use find_element() instead\n",
      "  tempDate = driver.find_element_by_xpath(dateURL).text.split(\": \")[1]\n",
      "C:\\Users\\Amir\\AppData\\Local\\Temp/ipykernel_3396/626879404.py:14: DeprecationWarning: find_element_by_* commands are deprecated. Please use find_element() instead\n",
      "  tempRate = driver.find_element_by_xpath(starURL)\n",
      "C:\\Users\\Amir\\AppData\\Local\\Temp/ipykernel_3396/626879404.py:22: DeprecationWarning: find_element_by_* commands are deprecated. Please use find_element() instead\n",
      "  tempComment = driver.find_element_by_xpath(commentURL).text\n"
     ]
    },
    {
     "name": "stdout",
     "output_type": "stream",
     "text": [
      "//*[@id=\"__next\"]/div/div/main/div/div[3]/section/div[9]/article/div/section/div[2]/p[2]\n",
      "//*[@id=\"__next\"]/div/div/main/div/div[3]/section/div[10]/article/div/section/div[2]/p[2]\n"
     ]
    },
    {
     "name": "stderr",
     "output_type": "stream",
     "text": [
      "C:\\Users\\Amir\\AppData\\Local\\Temp/ipykernel_3396/626879404.py:28: DeprecationWarning: find_element_by_* commands are deprecated. Please use find_element() instead\n",
      "  tempDate = driver.find_element_by_xpath(dateURL).text.split(\": \")[1]\n",
      "C:\\Users\\Amir\\AppData\\Local\\Temp/ipykernel_3396/626879404.py:14: DeprecationWarning: find_element_by_* commands are deprecated. Please use find_element() instead\n",
      "  tempRate = driver.find_element_by_xpath(starURL)\n",
      "C:\\Users\\Amir\\AppData\\Local\\Temp/ipykernel_3396/626879404.py:22: DeprecationWarning: find_element_by_* commands are deprecated. Please use find_element() instead\n",
      "  tempComment = driver.find_element_by_xpath(commentURL).text\n",
      "C:\\Users\\Amir\\AppData\\Local\\Temp/ipykernel_3396/626879404.py:28: DeprecationWarning: find_element_by_* commands are deprecated. Please use find_element() instead\n",
      "  tempDate = driver.find_element_by_xpath(dateURL).text.split(\": \")[1]\n",
      "C:\\Users\\Amir\\AppData\\Local\\Temp/ipykernel_3396/626879404.py:14: DeprecationWarning: find_element_by_* commands are deprecated. Please use find_element() instead\n",
      "  tempRate = driver.find_element_by_xpath(starURL)\n",
      "C:\\Users\\Amir\\AppData\\Local\\Temp/ipykernel_3396/626879404.py:22: DeprecationWarning: find_element_by_* commands are deprecated. Please use find_element() instead\n",
      "  tempComment = driver.find_element_by_xpath(commentURL).text\n"
     ]
    },
    {
     "name": "stdout",
     "output_type": "stream",
     "text": [
      "//*[@id=\"__next\"]/div/div/main/div/div[3]/section/div[11]/article/div/section/div[2]/p[2]\n",
      "//*[@id=\"__next\"]/div/div/main/div/div[3]/section/div[12]/article/div/section/div[2]/p[2]\n"
     ]
    },
    {
     "name": "stderr",
     "output_type": "stream",
     "text": [
      "C:\\Users\\Amir\\AppData\\Local\\Temp/ipykernel_3396/626879404.py:28: DeprecationWarning: find_element_by_* commands are deprecated. Please use find_element() instead\n",
      "  tempDate = driver.find_element_by_xpath(dateURL).text.split(\": \")[1]\n",
      "C:\\Users\\Amir\\AppData\\Local\\Temp/ipykernel_3396/626879404.py:14: DeprecationWarning: find_element_by_* commands are deprecated. Please use find_element() instead\n",
      "  tempRate = driver.find_element_by_xpath(starURL)\n",
      "C:\\Users\\Amir\\AppData\\Local\\Temp/ipykernel_3396/626879404.py:22: DeprecationWarning: find_element_by_* commands are deprecated. Please use find_element() instead\n",
      "  tempComment = driver.find_element_by_xpath(commentURL).text\n",
      "C:\\Users\\Amir\\AppData\\Local\\Temp/ipykernel_3396/626879404.py:28: DeprecationWarning: find_element_by_* commands are deprecated. Please use find_element() instead\n",
      "  tempDate = driver.find_element_by_xpath(dateURL).text.split(\": \")[1]\n",
      "C:\\Users\\Amir\\AppData\\Local\\Temp/ipykernel_3396/626879404.py:14: DeprecationWarning: find_element_by_* commands are deprecated. Please use find_element() instead\n",
      "  tempRate = driver.find_element_by_xpath(starURL)\n",
      "C:\\Users\\Amir\\AppData\\Local\\Temp/ipykernel_3396/626879404.py:22: DeprecationWarning: find_element_by_* commands are deprecated. Please use find_element() instead\n",
      "  tempComment = driver.find_element_by_xpath(commentURL).text\n"
     ]
    },
    {
     "name": "stdout",
     "output_type": "stream",
     "text": [
      "//*[@id=\"__next\"]/div/div/main/div/div[3]/section/div[13]/article/div/section/div[2]/p[2]\n",
      "//*[@id=\"__next\"]/div/div/main/div/div[3]/section/div[14]/article/div/section/div[2]/p[2]\n",
      "//*[@id=\"__next\"]/div/div/main/div/div[3]/section/div[14]/article/div/section/div[2]/p\n"
     ]
    },
    {
     "name": "stderr",
     "output_type": "stream",
     "text": [
      "C:\\Users\\Amir\\AppData\\Local\\Temp/ipykernel_3396/626879404.py:28: DeprecationWarning: find_element_by_* commands are deprecated. Please use find_element() instead\n",
      "  tempDate = driver.find_element_by_xpath(dateURL).text.split(\": \")[1]\n",
      "C:\\Users\\Amir\\AppData\\Local\\Temp/ipykernel_3396/626879404.py:32: DeprecationWarning: find_element_by_* commands are deprecated. Please use find_element() instead\n",
      "  tempDate = driver.find_element_by_xpath(dateURL).text.split(\": \")[1]\n",
      "C:\\Users\\Amir\\AppData\\Local\\Temp/ipykernel_3396/626879404.py:14: DeprecationWarning: find_element_by_* commands are deprecated. Please use find_element() instead\n",
      "  tempRate = driver.find_element_by_xpath(starURL)\n",
      "C:\\Users\\Amir\\AppData\\Local\\Temp/ipykernel_3396/626879404.py:22: DeprecationWarning: find_element_by_* commands are deprecated. Please use find_element() instead\n",
      "  tempComment = driver.find_element_by_xpath(commentURL).text\n"
     ]
    },
    {
     "name": "stdout",
     "output_type": "stream",
     "text": [
      "//*[@id=\"__next\"]/div/div/main/div/div[3]/section/div[16]/article/div/section/div[2]/p[2]\n",
      "//*[@id=\"__next\"]/div/div/main/div/div[3]/section/div[17]/article/div/section/div[2]/p[2]\n",
      "//*[@id=\"__next\"]/div/div/main/div/div[3]/section/div[18]/article/div/section/div[2]/p[2]\n"
     ]
    },
    {
     "name": "stderr",
     "output_type": "stream",
     "text": [
      "C:\\Users\\Amir\\AppData\\Local\\Temp/ipykernel_3396/626879404.py:28: DeprecationWarning: find_element_by_* commands are deprecated. Please use find_element() instead\n",
      "  tempDate = driver.find_element_by_xpath(dateURL).text.split(\": \")[1]\n",
      "C:\\Users\\Amir\\AppData\\Local\\Temp/ipykernel_3396/626879404.py:14: DeprecationWarning: find_element_by_* commands are deprecated. Please use find_element() instead\n",
      "  tempRate = driver.find_element_by_xpath(starURL)\n",
      "C:\\Users\\Amir\\AppData\\Local\\Temp/ipykernel_3396/626879404.py:22: DeprecationWarning: find_element_by_* commands are deprecated. Please use find_element() instead\n",
      "  tempComment = driver.find_element_by_xpath(commentURL).text\n",
      "C:\\Users\\Amir\\AppData\\Local\\Temp/ipykernel_3396/626879404.py:28: DeprecationWarning: find_element_by_* commands are deprecated. Please use find_element() instead\n",
      "  tempDate = driver.find_element_by_xpath(dateURL).text.split(\": \")[1]\n",
      "C:\\Users\\Amir\\AppData\\Local\\Temp/ipykernel_3396/626879404.py:14: DeprecationWarning: find_element_by_* commands are deprecated. Please use find_element() instead\n",
      "  tempRate = driver.find_element_by_xpath(starURL)\n",
      "C:\\Users\\Amir\\AppData\\Local\\Temp/ipykernel_3396/626879404.py:22: DeprecationWarning: find_element_by_* commands are deprecated. Please use find_element() instead\n",
      "  tempComment = driver.find_element_by_xpath(commentURL).text\n",
      "C:\\Users\\Amir\\AppData\\Local\\Temp/ipykernel_3396/626879404.py:28: DeprecationWarning: find_element_by_* commands are deprecated. Please use find_element() instead\n",
      "  tempDate = driver.find_element_by_xpath(dateURL).text.split(\": \")[1]\n"
     ]
    },
    {
     "name": "stdout",
     "output_type": "stream",
     "text": [
      "//*[@id=\"__next\"]/div/div/main/div/div[3]/section/div[18]/article/div/section/div[2]/p\n",
      "//*[@id=\"__next\"]/div/div/main/div/div[3]/section/div[19]/article/div/section/div[2]/p[2]\n"
     ]
    },
    {
     "name": "stderr",
     "output_type": "stream",
     "text": [
      "C:\\Users\\Amir\\AppData\\Local\\Temp/ipykernel_3396/626879404.py:32: DeprecationWarning: find_element_by_* commands are deprecated. Please use find_element() instead\n",
      "  tempDate = driver.find_element_by_xpath(dateURL).text.split(\": \")[1]\n",
      "C:\\Users\\Amir\\AppData\\Local\\Temp/ipykernel_3396/626879404.py:14: DeprecationWarning: find_element_by_* commands are deprecated. Please use find_element() instead\n",
      "  tempRate = driver.find_element_by_xpath(starURL)\n",
      "C:\\Users\\Amir\\AppData\\Local\\Temp/ipykernel_3396/626879404.py:22: DeprecationWarning: find_element_by_* commands are deprecated. Please use find_element() instead\n",
      "  tempComment = driver.find_element_by_xpath(commentURL).text\n",
      "C:\\Users\\Amir\\AppData\\Local\\Temp/ipykernel_3396/626879404.py:28: DeprecationWarning: find_element_by_* commands are deprecated. Please use find_element() instead\n",
      "  tempDate = driver.find_element_by_xpath(dateURL).text.split(\": \")[1]\n",
      "C:\\Users\\Amir\\AppData\\Local\\Temp/ipykernel_3396/626879404.py:14: DeprecationWarning: find_element_by_* commands are deprecated. Please use find_element() instead\n",
      "  tempRate = driver.find_element_by_xpath(starURL)\n",
      "C:\\Users\\Amir\\AppData\\Local\\Temp/ipykernel_3396/626879404.py:22: DeprecationWarning: find_element_by_* commands are deprecated. Please use find_element() instead\n",
      "  tempComment = driver.find_element_by_xpath(commentURL).text\n"
     ]
    },
    {
     "name": "stdout",
     "output_type": "stream",
     "text": [
      "//*[@id=\"__next\"]/div/div/main/div/div[3]/section/div[20]/article/div/section/div[2]/p[2]\n",
      "//*[@id=\"__next\"]/div/div/main/div/div[3]/section/div[21]/article/div/section/div[2]/p[2]\n",
      "//*[@id=\"__next\"]/div/div/main/div/div[3]/section/div[21]/article/div/section/div[2]/p\n"
     ]
    },
    {
     "name": "stderr",
     "output_type": "stream",
     "text": [
      "C:\\Users\\Amir\\AppData\\Local\\Temp/ipykernel_3396/626879404.py:28: DeprecationWarning: find_element_by_* commands are deprecated. Please use find_element() instead\n",
      "  tempDate = driver.find_element_by_xpath(dateURL).text.split(\": \")[1]\n",
      "C:\\Users\\Amir\\AppData\\Local\\Temp/ipykernel_3396/626879404.py:14: DeprecationWarning: find_element_by_* commands are deprecated. Please use find_element() instead\n",
      "  tempRate = driver.find_element_by_xpath(starURL)\n",
      "C:\\Users\\Amir\\AppData\\Local\\Temp/ipykernel_3396/626879404.py:22: DeprecationWarning: find_element_by_* commands are deprecated. Please use find_element() instead\n",
      "  tempComment = driver.find_element_by_xpath(commentURL).text\n",
      "C:\\Users\\Amir\\AppData\\Local\\Temp/ipykernel_3396/626879404.py:28: DeprecationWarning: find_element_by_* commands are deprecated. Please use find_element() instead\n",
      "  tempDate = driver.find_element_by_xpath(dateURL).text.split(\": \")[1]\n",
      "C:\\Users\\Amir\\AppData\\Local\\Temp/ipykernel_3396/626879404.py:32: DeprecationWarning: find_element_by_* commands are deprecated. Please use find_element() instead\n",
      "  tempDate = driver.find_element_by_xpath(dateURL).text.split(\": \")[1]\n",
      "C:\\Users\\Amir\\AppData\\Local\\Temp/ipykernel_3396/626879404.py:14: DeprecationWarning: find_element_by_* commands are deprecated. Please use find_element() instead\n",
      "  tempRate = driver.find_element_by_xpath(starURL)\n",
      "C:\\Users\\Amir\\AppData\\Local\\Temp/ipykernel_3396/626879404.py:22: DeprecationWarning: find_element_by_* commands are deprecated. Please use find_element() instead\n",
      "  tempComment = driver.find_element_by_xpath(commentURL).text\n"
     ]
    },
    {
     "name": "stdout",
     "output_type": "stream",
     "text": [
      "//*[@id=\"__next\"]/div/div/main/div/div[3]/section/div[22]/article/div/section/div[2]/p[2]\n",
      "//*[@id=\"__next\"]/div/div/main/div/div[3]/section/div[23]/article/div/section/div[2]/p[2]\n",
      "//*[@id=\"__next\"]/div/div/main/div/div[3]/section/div[23]/article/div/section/div[2]/p\n"
     ]
    },
    {
     "name": "stderr",
     "output_type": "stream",
     "text": [
      "C:\\Users\\Amir\\AppData\\Local\\Temp/ipykernel_3396/626879404.py:28: DeprecationWarning: find_element_by_* commands are deprecated. Please use find_element() instead\n",
      "  tempDate = driver.find_element_by_xpath(dateURL).text.split(\": \")[1]\n",
      "C:\\Users\\Amir\\AppData\\Local\\Temp/ipykernel_3396/626879404.py:14: DeprecationWarning: find_element_by_* commands are deprecated. Please use find_element() instead\n",
      "  tempRate = driver.find_element_by_xpath(starURL)\n",
      "C:\\Users\\Amir\\AppData\\Local\\Temp/ipykernel_3396/626879404.py:22: DeprecationWarning: find_element_by_* commands are deprecated. Please use find_element() instead\n",
      "  tempComment = driver.find_element_by_xpath(commentURL).text\n",
      "C:\\Users\\Amir\\AppData\\Local\\Temp/ipykernel_3396/626879404.py:28: DeprecationWarning: find_element_by_* commands are deprecated. Please use find_element() instead\n",
      "  tempDate = driver.find_element_by_xpath(dateURL).text.split(\": \")[1]\n",
      "C:\\Users\\Amir\\AppData\\Local\\Temp/ipykernel_3396/626879404.py:32: DeprecationWarning: find_element_by_* commands are deprecated. Please use find_element() instead\n",
      "  tempDate = driver.find_element_by_xpath(dateURL).text.split(\": \")[1]\n",
      "C:\\Users\\Amir\\AppData\\Local\\Temp/ipykernel_3396/626879404.py:14: DeprecationWarning: find_element_by_* commands are deprecated. Please use find_element() instead\n",
      "  tempRate = driver.find_element_by_xpath(starURL)\n",
      "C:\\Users\\Amir\\AppData\\Local\\Temp/ipykernel_3396/626879404.py:22: DeprecationWarning: find_element_by_* commands are deprecated. Please use find_element() instead\n",
      "  tempComment = driver.find_element_by_xpath(commentURL).text\n",
      "C:\\Users\\Amir\\AppData\\Local\\Temp/ipykernel_3396/626879404.py:28: DeprecationWarning: find_element_by_* commands are deprecated. Please use find_element() instead\n",
      "  tempDate = driver.find_element_by_xpath(dateURL).text.split(\": \")[1]\n",
      "C:\\Users\\Amir\\AppData\\Local\\Temp/ipykernel_3396/626879404.py:14: DeprecationWarning: find_element_by_* commands are deprecated. Please use find_element() instead\n",
      "  tempRate = driver.find_element_by_xpath(starURL)\n",
      "C:\\Users\\Amir\\AppData\\Local\\Temp/ipykernel_3396/626879404.py:22: DeprecationWarning: find_element_by_* commands are deprecated. Please use find_element() instead\n",
      "  tempComment = driver.find_element_by_xpath(commentURL).text\n",
      "C:\\Users\\Amir\\AppData\\Local\\Temp/ipykernel_3396/626879404.py:28: DeprecationWarning: find_element_by_* commands are deprecated. Please use find_element() instead\n",
      "  tempDate = driver.find_element_by_xpath(dateURL).text.split(\": \")[1]\n",
      "C:\\Users\\Amir\\AppData\\Local\\Temp/ipykernel_3396/626879404.py:32: DeprecationWarning: find_element_by_* commands are deprecated. Please use find_element() instead\n",
      "  tempDate = driver.find_element_by_xpath(dateURL).text.split(\": \")[1]\n"
     ]
    },
    {
     "name": "stdout",
     "output_type": "stream",
     "text": [
      "//*[@id=\"__next\"]/div/div/main/div/div[3]/section/div[24]/article/div/section/div[2]/p[2]\n",
      "//*[@id=\"__next\"]/div/div/main/div/div[3]/section/div[25]/article/div/section/div[2]/p[2]\n",
      "//*[@id=\"__next\"]/div/div/main/div/div[3]/section/div[25]/article/div/section/div[2]/p\n"
     ]
    },
    {
     "data": {
      "text/html": [
       "<div>\n",
       "<style scoped>\n",
       "    .dataframe tbody tr th:only-of-type {\n",
       "        vertical-align: middle;\n",
       "    }\n",
       "\n",
       "    .dataframe tbody tr th {\n",
       "        vertical-align: top;\n",
       "    }\n",
       "\n",
       "    .dataframe thead th {\n",
       "        text-align: right;\n",
       "    }\n",
       "</style>\n",
       "<table border=\"1\" class=\"dataframe\">\n",
       "  <thead>\n",
       "    <tr style=\"text-align: right;\">\n",
       "      <th></th>\n",
       "      <th>Rate</th>\n",
       "      <th>Comment</th>\n",
       "      <th>Date</th>\n",
       "    </tr>\n",
       "  </thead>\n",
       "  <tbody>\n",
       "    <tr>\n",
       "      <th>0</th>\n",
       "      <td>1</td>\n",
       "      <td>The fact that people actually put money into n...</td>\n",
       "      <td>September 21, 2023</td>\n",
       "    </tr>\n",
       "    <tr>\n",
       "      <th>1</th>\n",
       "      <td>1</td>\n",
       "      <td>A dishonorable company. They allowed for my em...</td>\n",
       "      <td>September 09, 2023</td>\n",
       "    </tr>\n",
       "    <tr>\n",
       "      <th>2</th>\n",
       "      <td>2</td>\n",
       "      <td>Lots of errors when trying to log in or when t...</td>\n",
       "      <td>July 18, 2023</td>\n",
       "    </tr>\n",
       "    <tr>\n",
       "      <th>3</th>\n",
       "      <td>2</td>\n",
       "      <td>When the community rejected their 50 image lim...</td>\n",
       "      <td>July 30, 2023</td>\n",
       "    </tr>\n",
       "    <tr>\n",
       "      <th>4</th>\n",
       "      <td>1</td>\n",
       "      <td>There are things that are always broken and ne...</td>\n",
       "      <td>January 31, 2023</td>\n",
       "    </tr>\n",
       "    <tr>\n",
       "      <th>...</th>\n",
       "      <td>...</td>\n",
       "      <td>...</td>\n",
       "      <td>...</td>\n",
       "    </tr>\n",
       "    <tr>\n",
       "      <th>135</th>\n",
       "      <td>1</td>\n",
       "      <td>Date of experience: March 22, 2023</td>\n",
       "      <td>March 22, 2023</td>\n",
       "    </tr>\n",
       "    <tr>\n",
       "      <th>136</th>\n",
       "      <td>1</td>\n",
       "      <td>Scam Website, STAY AWAY!</td>\n",
       "      <td>June 02, 2021</td>\n",
       "    </tr>\n",
       "    <tr>\n",
       "      <th>137</th>\n",
       "      <td>5</td>\n",
       "      <td>Date of experience: November 09, 2021</td>\n",
       "      <td>November 09, 2021</td>\n",
       "    </tr>\n",
       "    <tr>\n",
       "      <th>138</th>\n",
       "      <td>1</td>\n",
       "      <td>Keep away. save your money.</td>\n",
       "      <td>January 21, 2022</td>\n",
       "    </tr>\n",
       "    <tr>\n",
       "      <th>139</th>\n",
       "      <td>1</td>\n",
       "      <td>Date of experience: April 06, 2023</td>\n",
       "      <td>April 06, 2023</td>\n",
       "    </tr>\n",
       "  </tbody>\n",
       "</table>\n",
       "<p>140 rows × 3 columns</p>\n",
       "</div>"
      ],
      "text/plain": [
       "     Rate                                            Comment  \\\n",
       "0       1  The fact that people actually put money into n...   \n",
       "1       1  A dishonorable company. They allowed for my em...   \n",
       "2       2  Lots of errors when trying to log in or when t...   \n",
       "3       2  When the community rejected their 50 image lim...   \n",
       "4       1  There are things that are always broken and ne...   \n",
       "..    ...                                                ...   \n",
       "135     1                 Date of experience: March 22, 2023   \n",
       "136     1                           Scam Website, STAY AWAY!   \n",
       "137     5              Date of experience: November 09, 2021   \n",
       "138     1                        Keep away. save your money.   \n",
       "139     1                 Date of experience: April 06, 2023   \n",
       "\n",
       "                   Date  \n",
       "0    September 21, 2023  \n",
       "1    September 09, 2023  \n",
       "2         July 18, 2023  \n",
       "3         July 30, 2023  \n",
       "4      January 31, 2023  \n",
       "..                  ...  \n",
       "135      March 22, 2023  \n",
       "136       June 02, 2021  \n",
       "137   November 09, 2021  \n",
       "138    January 21, 2022  \n",
       "139      April 06, 2023  \n",
       "\n",
       "[140 rows x 3 columns]"
      ]
     },
     "execution_count": 70,
     "metadata": {},
     "output_type": "execute_result"
    }
   ],
   "source": [
    "RatingDF = pd.DataFrame(columns=['Rate','Comment',\"Date\"])\n",
    "for page in range (1,13): #Check Page numbers in Trustpilot and replace the second number with last page number\n",
    "    pageURL =  'https://www.trustpilot.com/review/opensea.io?page={}'.format(page)\n",
    "    driver.get(pageURL)\n",
    "    if driver.current_url == 'https://www.trustpilot.com/review/opensea.io' and page != 1:\n",
    "        break\n",
    "    for i in range(4,26):\n",
    "        if i == 5 or i == 15:\n",
    "            continue\n",
    "        else:\n",
    "            try:\n",
    "                starURL = '//*[@id=\"__next\"]/div/div/main/div/div[3]/section/div[{}]/article/div/section/div[1]/div[1]/img'.format(i)\n",
    "                # print(starURL)\n",
    "                tempRate = driver.find_element_by_xpath(starURL)\n",
    "                tempRateALT = tempRate.get_attribute(\"alt\")\n",
    "                tempRate_starCount = [int(i) for i in tempRateALT.split() if i.isdigit()]\n",
    "                tempStarCount = tempRate_starCount[0]\n",
    "                # print(tempStarCount)\n",
    "\n",
    "                #Comment\n",
    "                commentURL = '//*[@id=\"__next\"]/div/div/main/div/div[3]/section/div[{}]/article/div/section/div[2]/p[1]'.format(i)\n",
    "                tempComment = driver.find_element_by_xpath(commentURL).text\n",
    "                \n",
    "                #Date\n",
    "                try:\n",
    "                    dateURL = '//*[@id=\"__next\"]/div/div/main/div/div[3]/section/div[{}]/article/div/section/div[2]/p[2]'.format(i)\n",
    "                    print(dateURL)\n",
    "                    tempDate = driver.find_element_by_xpath(dateURL).text.split(\": \")[1]\n",
    "                except:\n",
    "                    dateURL = '//*[@id=\"__next\"]/div/div/main/div/div[3]/section/div[{}]/article/div/section/div[2]/p'.format(i)\n",
    "                    print(dateURL)\n",
    "                    tempDate = driver.find_element_by_xpath(dateURL).text.split(\": \")[1]\n",
    "                RowList = [tempStarCount,tempComment,tempDate]\n",
    "                # RatingDF = RatingDF.ap\n",
    "                # print(RowList)\n",
    "                RatingDF.loc[len(RatingDF.index)] = RowList\n",
    "            except:\n",
    "                break\n",
    "\n",
    "RatingDF"
   ]
  },
  {
   "cell_type": "code",
   "execution_count": 71,
   "metadata": {},
   "outputs": [
    {
     "data": {
      "text/html": [
       "<div>\n",
       "<style scoped>\n",
       "    .dataframe tbody tr th:only-of-type {\n",
       "        vertical-align: middle;\n",
       "    }\n",
       "\n",
       "    .dataframe tbody tr th {\n",
       "        vertical-align: top;\n",
       "    }\n",
       "\n",
       "    .dataframe thead th {\n",
       "        text-align: right;\n",
       "    }\n",
       "</style>\n",
       "<table border=\"1\" class=\"dataframe\">\n",
       "  <thead>\n",
       "    <tr style=\"text-align: right;\">\n",
       "      <th></th>\n",
       "      <th>Rate</th>\n",
       "      <th>Comment</th>\n",
       "      <th>Date</th>\n",
       "    </tr>\n",
       "  </thead>\n",
       "  <tbody>\n",
       "    <tr>\n",
       "      <th>0</th>\n",
       "      <td>1</td>\n",
       "      <td>The fact that people actually put money into n...</td>\n",
       "      <td>September 21, 2023</td>\n",
       "    </tr>\n",
       "    <tr>\n",
       "      <th>1</th>\n",
       "      <td>1</td>\n",
       "      <td>A dishonorable company. They allowed for my em...</td>\n",
       "      <td>September 09, 2023</td>\n",
       "    </tr>\n",
       "    <tr>\n",
       "      <th>2</th>\n",
       "      <td>2</td>\n",
       "      <td>Lots of errors when trying to log in or when t...</td>\n",
       "      <td>July 18, 2023</td>\n",
       "    </tr>\n",
       "    <tr>\n",
       "      <th>3</th>\n",
       "      <td>2</td>\n",
       "      <td>When the community rejected their 50 image lim...</td>\n",
       "      <td>July 30, 2023</td>\n",
       "    </tr>\n",
       "    <tr>\n",
       "      <th>4</th>\n",
       "      <td>1</td>\n",
       "      <td>There are things that are always broken and ne...</td>\n",
       "      <td>January 31, 2023</td>\n",
       "    </tr>\n",
       "    <tr>\n",
       "      <th>...</th>\n",
       "      <td>...</td>\n",
       "      <td>...</td>\n",
       "      <td>...</td>\n",
       "    </tr>\n",
       "    <tr>\n",
       "      <th>135</th>\n",
       "      <td>1</td>\n",
       "      <td>Date of experience: March 22, 2023</td>\n",
       "      <td>March 22, 2023</td>\n",
       "    </tr>\n",
       "    <tr>\n",
       "      <th>136</th>\n",
       "      <td>1</td>\n",
       "      <td>Scam Website, STAY AWAY!</td>\n",
       "      <td>June 02, 2021</td>\n",
       "    </tr>\n",
       "    <tr>\n",
       "      <th>137</th>\n",
       "      <td>5</td>\n",
       "      <td>Date of experience: November 09, 2021</td>\n",
       "      <td>November 09, 2021</td>\n",
       "    </tr>\n",
       "    <tr>\n",
       "      <th>138</th>\n",
       "      <td>1</td>\n",
       "      <td>Keep away. save your money.</td>\n",
       "      <td>January 21, 2022</td>\n",
       "    </tr>\n",
       "    <tr>\n",
       "      <th>139</th>\n",
       "      <td>1</td>\n",
       "      <td>Date of experience: April 06, 2023</td>\n",
       "      <td>April 06, 2023</td>\n",
       "    </tr>\n",
       "  </tbody>\n",
       "</table>\n",
       "<p>140 rows × 3 columns</p>\n",
       "</div>"
      ],
      "text/plain": [
       "     Rate                                            Comment  \\\n",
       "0       1  The fact that people actually put money into n...   \n",
       "1       1  A dishonorable company. They allowed for my em...   \n",
       "2       2  Lots of errors when trying to log in or when t...   \n",
       "3       2  When the community rejected their 50 image lim...   \n",
       "4       1  There are things that are always broken and ne...   \n",
       "..    ...                                                ...   \n",
       "135     1                 Date of experience: March 22, 2023   \n",
       "136     1                           Scam Website, STAY AWAY!   \n",
       "137     5              Date of experience: November 09, 2021   \n",
       "138     1                        Keep away. save your money.   \n",
       "139     1                 Date of experience: April 06, 2023   \n",
       "\n",
       "                   Date  \n",
       "0    September 21, 2023  \n",
       "1    September 09, 2023  \n",
       "2         July 18, 2023  \n",
       "3         July 30, 2023  \n",
       "4      January 31, 2023  \n",
       "..                  ...  \n",
       "135      March 22, 2023  \n",
       "136       June 02, 2021  \n",
       "137   November 09, 2021  \n",
       "138    January 21, 2022  \n",
       "139      April 06, 2023  \n",
       "\n",
       "[140 rows x 3 columns]"
      ]
     },
     "execution_count": 71,
     "metadata": {},
     "output_type": "execute_result"
    }
   ],
   "source": [
    "RatingDF"
   ]
  },
  {
   "cell_type": "code",
   "execution_count": 73,
   "metadata": {},
   "outputs": [],
   "source": [
    "RatingDF.to_csv(\"CSV/Data.csv\",index=False)"
   ]
  },
  {
   "cell_type": "code",
   "execution_count": null,
   "metadata": {},
   "outputs": [],
   "source": []
  }
 ],
 "metadata": {
  "kernelspec": {
   "display_name": "WebMining",
   "language": "python",
   "name": "python3"
  },
  "language_info": {
   "codemirror_mode": {
    "name": "ipython",
    "version": 3
   },
   "file_extension": ".py",
   "mimetype": "text/x-python",
   "name": "python",
   "nbconvert_exporter": "python",
   "pygments_lexer": "ipython3",
   "version": "3.8.12"
  },
  "orig_nbformat": 4
 },
 "nbformat": 4,
 "nbformat_minor": 2
}
